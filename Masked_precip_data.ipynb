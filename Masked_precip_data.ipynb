{
 "cells": [
  {
   "cell_type": "code",
   "execution_count": null,
   "metadata": {},
   "outputs": [],
   "source": [
    "import pandas as pd\n",
    "import xarray as xr\n",
    "import numpy as np\n",
    "import cartopy as ccrs\n",
    "from matplotlib import pyplot as plt"
   ]
  },
  {
   "cell_type": "code",
   "execution_count": null,
   "metadata": {},
   "outputs": [],
   "source": [
    "precipds['rain'].mean('X').where(mask.the_geom==1)"
   ]
  },
  {
   "cell_type": "code",
   "execution_count": null,
   "metadata": {},
   "outputs": [],
   "source": [
    "mask=xr.open_dataset('http://iridl.ldeo.columbia.edu/SOURCES/.NOAA/.NCEP/.CPC/.UNIFIED_PRCP/.GAUGE_BASED/.GLOBAL/.v1p0/.extREALTIME/.rain/T/monthlyAverage/T/(Jan%201979)/(Dec%202018)/RANGE/X/(130W)/(100W)/RANGE/Y/25/50/RANGE/SOURCES/.Features/.Political/.World/.firstOrder_ESRI/.the_geom/objectid/2297/VALUE/rasterize/dods')\n",
    "mask"
   ]
  },
  {
   "cell_type": "code",
   "execution_count": null,
   "metadata": {},
   "outputs": [],
   "source": [
    "precipurlbymonth=\"http://iridl.ldeo.columbia.edu/SOURCES/.NOAA/.NCEP/.CPC/.UNIFIED_PRCP/.GAUGE_BASED/.GLOBAL/.v1p0/.extREALTIME/.rain/T/monthlyAverage/T/%28Jan%201979%29/%28Dec%202018%29/RANGE/X/%28130W%29/%28100W%29/RANGE/Y/25/50/RANGE/T/(days%20since%201960-01-01)streamgridunitconvert/dods\"\n",
    "precipds=xr.open_dataset(precipurlbymonth)\n",
    "ninourl=\"http://iridl.ldeo.columbia.edu/SOURCES/.NOAA/.NCDC/.ERSST/.version5/.sst/Y/-5/5/RANGEEDGES/X/190/240/RANGEEDGES/%5BX/Y%5Daverage/zlev/removeGRID/T/%28Jan%201979%29/%28Dec%202018%29/RANGE/yearly-anomalies/T/(days%20since%201960-01-01)streamgridunitconvert/dods\"\n",
    "ninods=xr.open_dataset(ninourl)\n",
    "wind = xr.open_dataset(\"http://iridl.ldeo.columbia.edu/SOURCES/.NOAA/.NCEP-DOE/.Reanalysis-2/.Monthly/.pgb/.pgb/.ugrdprs/P/200/VALUE/X/220/240/RANGE/Y/27/40/RANGE/[X/Y]average/SOURCES/.NOAA/.NCEP-DOE/.Reanalysis-2/.Monthly/.pgb/.pgb/.ugrdprs/P/200/VALUE/X/210/240/RANGE/Y/45/60/RANGE/[X/Y]average/sub/P/removeGRID/T/(days%20since%201960-01-01)streamgridunitconvert/dods\")"
   ]
  },
  {
   "cell_type": "code",
   "execution_count": null,
   "metadata": {},
   "outputs": [],
   "source": [
    "precipds.where(mask.the_geom!=0).rain.mean(dim=[\"X\",\"Y\"]).plot()"
   ]
  },
  {
   "cell_type": "code",
   "execution_count": null,
   "metadata": {},
   "outputs": [],
   "source": [
    "maskedprecip=precipds.where(mask.the_geom!=0).rain.mean(dim=[\"X\",\"Y\"])\n",
    "maskedprecip=maskedprecip.drop(\"objectid\")"
   ]
  },
  {
   "cell_type": "code",
   "execution_count": null,
   "metadata": {},
   "outputs": [],
   "source": [
    "month=[\"Nov\",\"Dec\",\"Jan\",\"Feb\"]\n",
    "monthnum=[11,12,1,2]\n",
    "fig, (ax1, ax2,ax3,ax4) = plt.subplots(ncols=4,figsize=(30,5))\n",
    "axes=[ax1,ax2,ax3,ax4]\n",
    "for i,j in enumerate(monthnum):\n",
    "    maskedprecip.sel(T=maskedprecip[\"T.month\"]==j).plot(ax=axes[i])"
   ]
  },
  {
   "cell_type": "code",
   "execution_count": null,
   "metadata": {},
   "outputs": [],
   "source": [
    "maskedprecipanom=maskedprecip.groupby('T.month') - maskedprecip.groupby('T.month').mean('T')\n",
    "windanom=wind.groupby(\"T.month\")-wind.groupby(\"T.month\").mean(\"T\")"
   ]
  },
  {
   "cell_type": "code",
   "execution_count": null,
   "metadata": {},
   "outputs": [],
   "source": [
    "def getmonth(data,month):\n",
    "    return data.sel(T=data[\"T.month\"]==month)"
   ]
  },
  {
   "cell_type": "code",
   "execution_count": null,
   "metadata": {},
   "outputs": [],
   "source": [
    "month=[\"Nov\",\"Dec\",\"Jan\",\"Feb\"]\n",
    "monthnum=[11,12,1,2]\n",
    "for i,j in enumerate(monthnum):\n",
    "    fig, (ax1, ax2) = plt.subplots(ncols=2,figsize=(30,5))\n",
    "    ax1.scatter(getmonth(maskedprecipanom,1),getmonth(ninods.sst,1))\n",
    "    ax2.scatter(getmonth(maskedprecipanom,1),getmonth(windanom.ugrdprs,1))\n",
    "    ax1.set_title(month[i]+' SST and Precip')\n",
    "    ax1.set_xlabel('Precipitation')\n",
    "    ax1.set_ylabel('SST')\n",
    "    ax2.set_title(month[i]+' Wind and Precip')\n",
    "    ax2.set_xlabel('Precipitation')\n",
    "    ax2.set_ylabel('Wind')"
   ]
  },
  {
   "cell_type": "code",
   "execution_count": null,
   "metadata": {},
   "outputs": [],
   "source": [
    "rain=np.empty((480))\n",
    "for j,i in enumerate(np.array(mask2anom.rain)):\n",
    "    rain[j]=int(i)"
   ]
  },
  {
   "cell_type": "code",
   "execution_count": null,
   "metadata": {},
   "outputs": [],
   "source": [
    "maskedprecip=precipds.where(mask.the_geom!=0).rain.mean(dim=[\"X\",\"Y\"])\n",
    "maskedprecip=maskedprecip.drop(\"objectid\")"
   ]
  },
  {
   "cell_type": "code",
   "execution_count": null,
   "metadata": {},
   "outputs": [],
   "source": [
    "ninourl=\"http://iridl.ldeo.columbia.edu/SOURCES/.NOAA/.NCDC/.ERSST/.version5/.sst/Y/-5/5/RANGEEDGES/X/190/240/RANGEEDGES/%5BX/Y%5Daverage/zlev/removeGRID/T/%28Jan%201979%29/%28Dec%202018%29/RANGE/yearly-anomalies/T/(days%20since%201960-01-01)streamgridunitconvert/dods\"\n",
    "ninods=xr.open_dataset(ninourl)\n",
    "np.shape(ninods.sst)"
   ]
  },
  {
   "cell_type": "code",
   "execution_count": null,
   "metadata": {},
   "outputs": [],
   "source": [
    "maskedprecip.sel(T=maskedprecip[\"T.month\"]==1).plot()"
   ]
  },
  {
   "cell_type": "code",
   "execution_count": null,
   "metadata": {},
   "outputs": [],
   "source": [
    "maskedprecip.sel(T=maskedprecip[\"T.month\"]==2).plot()"
   ]
  },
  {
   "cell_type": "code",
   "execution_count": null,
   "metadata": {},
   "outputs": [],
   "source": [
    "maskedprecip.sel(T=maskedprecip[\"T.month\"]==11).plot()\n",
    "maskedprecip.sel(T=maskedprecip[\"T.month\"]==12).plot()\n",
    "maskedprecip.sel(T=maskedprecip[\"T.month\"]==1).plot()\n",
    "maskedprecip.sel(T=maskedprecip[\"T.month\"]==2).plot()"
   ]
  },
  {
   "cell_type": "code",
   "execution_count": null,
   "metadata": {},
   "outputs": [],
   "source": [
    "month=[\"Nov\",\"Dec\",\"Jan\",\"Feb\"]\n",
    "monthnum=[11,12,1,2]\n",
    "fig, (ax1, ax2,ax3,ax4) = plt.subplots(ncols=4,figsize=(30,5))\n",
    "axes=[ax1,ax2,ax3,ax4]\n",
    "for i,j in enumerate(monthnum):\n",
    "    maskedprecip.sel(T=maskedprecip[\"T.month\"]==j).plot(ax=axes[i])\n",
    "\n"
   ]
  },
  {
   "cell_type": "code",
   "execution_count": null,
   "metadata": {},
   "outputs": [],
   "source": []
  },
  {
   "cell_type": "code",
   "execution_count": null,
   "metadata": {},
   "outputs": [],
   "source": [
    "def getmonth(data,month):\n",
    "    return data.sel(T=data[\"T.month\"]==month)"
   ]
  },
  {
   "cell_type": "code",
   "execution_count": null,
   "metadata": {},
   "outputs": [],
   "source": [
    "month=[\"Nov\",\"Dec\",\"Jan\",\"Feb\"]\n",
    "monthnum=[11,12,1,2]\n",
    "for i,j in enumerate(monthnum):\n",
    "    fig, (ax1, ax2) = plt.subplots(ncols=2,figsize=(30,5))\n",
    "    ax1.scatter(getmonth(maskedprecipanom,j),getmonth(ninods.sst,j))\n",
    "    ax2.scatter(getmonth(maskedprecipanom,j),getmonth(wind.ugrdprs,j))\n",
    "    ax1.set_title(month[i]+' SST and Precip')\n",
    "    ax1.set_xlabel('Precipitation')\n",
    "    ax1.set_ylabel('SST')\n",
    "    ax2.set_title(month[i]+' Wind and Precip')\n",
    "    ax2.set_xlabel('Precipitation')\n",
    "    ax2.set_ylabel('Wind')\n",
    "\n",
    "\n",
    "\n"
   ]
  },
  {
   "cell_type": "code",
   "execution_count": null,
   "metadata": {},
   "outputs": [],
   "source": [
    "windbin=np.empty((480))\n",
    "for j,i in enumerate(np.array(windanom.ugrdprs)):\n",
    "    windbin[j]=int(i)\n",
    "sstbin=np.empty((480))\n",
    "for j,i in enumerate(np.array(ninods.sst)):\n",
    "    sstbin[j]=int(i)\n",
    "rain=np.empty((480))\n",
    "for j,i in enumerate(np.array(mask2anom.rain)):\n",
    "    rain[j]=int(i)"
   ]
  },
  {
   "cell_type": "code",
   "execution_count": null,
   "metadata": {},
   "outputs": [],
   "source": [
    "raindf=pd.DataFrame({\"rain\":rain,\"sst\":ninods.sst,\"wind\":windanom.ugrdprs})\n",
    "boxplot = raindf.boxplot(by='rain')"
   ]
  },
  {
   "cell_type": "code",
   "execution_count": null,
   "metadata": {},
   "outputs": [],
   "source": [
    "month=[\"Nov\",\"Dec\",\"Jan\",\"Feb\"]\n",
    "monthnum=[11,12,1,2]\n",
    "for i,j in enumerate(monthnum):\n",
    "    rainmonth=np.empty((40))\n",
    "    for k,l in enumerate(np.array(getmonth(mask2anom.rain,j))):\n",
    "        rainmonth[k]=int(l)\n",
    "    monthdf=pd.DataFrame({\"rain\":rainmonth,\"sst\":getmonth(ninods.sst,j),\"wind\":getmonth(windanom.ugrdprs,j)})\n",
    "    monthdf.boxplot(by=\"rain\")\n",
    "    \n"
   ]
  },
  {
   "cell_type": "code",
   "execution_count": null,
   "metadata": {},
   "outputs": [],
   "source": [
    "dsbin=pd.DataFrame({\"rain\":rain,\"sst\":sstbin,\"wind\":windbin})\n"
   ]
  },
  {
   "cell_type": "code",
   "execution_count": null,
   "metadata": {},
   "outputs": [],
   "source": [
    "import seaborn as sns\n",
    "import pandas as pd\n",
    "\n",
    "dsbin.drop_duplicates(['sst','wind'], inplace=True)\n",
    "pivot = dsbin.pivot(index='sst', columns='wind', values='rain')\n",
    "ax = sns.heatmap(pivot)\n",
    "plt.show()\n"
   ]
  }
 ],
 "metadata": {
  "kernelspec": {
   "display_name": "Python 3",
   "language": "python",
   "name": "python3"
  },
  "language_info": {
   "codemirror_mode": {
    "name": "ipython",
    "version": 3
   },
   "file_extension": ".py",
   "mimetype": "text/x-python",
   "name": "python",
   "nbconvert_exporter": "python",
   "pygments_lexer": "ipython3",
   "version": "3.7.1"
  }
 },
 "nbformat": 4,
 "nbformat_minor": 2
}
