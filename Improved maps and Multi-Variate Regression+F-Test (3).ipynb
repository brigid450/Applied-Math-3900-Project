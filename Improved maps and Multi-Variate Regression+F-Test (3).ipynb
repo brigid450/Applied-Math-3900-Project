{
 "cells": [
  {
   "cell_type": "code",
   "execution_count": null,
   "metadata": {},
   "outputs": [],
   "source": [
    "import sys\n",
    "!conda install --yes cartopy dask netCDF4 bottleneck\n",
    "pip install sklearn_xarray"
   ]
  },
  {
   "cell_type": "code",
   "execution_count": null,
   "metadata": {},
   "outputs": [],
   "source": [
    "import sys\n",
    "! -m pip install sklearn_xarray\n"
   ]
  },
  {
   "cell_type": "code",
   "execution_count": null,
   "metadata": {},
   "outputs": [],
   "source": [
    "import pandas as pd\n",
    "import xarray as xr\n",
    "import numpy as np\n",
    "import cartopy as ccrs\n",
    "from matplotlib import pyplot as plt\n",
    "%matplotlib inline"
   ]
  },
  {
   "cell_type": "markdown",
   "metadata": {},
   "source": [
    "Looking at 1979-2018 Rainfall on the state of California, (NOA extRealtime precipitation) as well as the ENSO anomalies"
   ]
  },
  {
   "cell_type": "code",
   "execution_count": null,
   "metadata": {},
   "outputs": [],
   "source": [
    "precipurlbymonth=\"http://iridl.ldeo.columbia.edu/SOURCES/.NOAA/.NCEP/.CPC/.UNIFIED_PRCP/.GAUGE_BASED/.GLOBAL/.v1p0/.extREALTIME/.rain/T/monthlyAverage/T/%28Jan%201979%29/%28Dec%202018%29/RANGE/X/%28130W%29/%28100W%29/RANGE/Y/25/50/RANGE/T/(days%20since%201960-01-01)streamgridunitconvert/dods\"\n",
    "precipds=xr.open_dataset(precipurlbymonth)\n",
    "ninourl=\"http://iridl.ldeo.columbia.edu/SOURCES/.NOAA/.NCDC/.ERSST/.version5/.sst/Y/-5/5/RANGEEDGES/X/190/240/RANGEEDGES/%5BX/Y%5Daverage/zlev/removeGRID/T/%28Jan%201979%29/%28Dec%202018%29/RANGE/yearly-anomalies/T/(days%20since%201960-01-01)streamgridunitconvert/dods\"\n",
    "ninods=xr.open_dataset(ninourl)\n",
    "ninods\n",
    "precipds\n"
   ]
  },
  {
   "cell_type": "code",
   "execution_count": null,
   "metadata": {},
   "outputs": [],
   "source": [
    "precipds.rain.mean(dim=\"T\").plot()"
   ]
  },
  {
   "cell_type": "code",
   "execution_count": null,
   "metadata": {},
   "outputs": [],
   "source": [
    "ninods.sst.plot()"
   ]
  },
  {
   "cell_type": "code",
   "execution_count": null,
   "metadata": {},
   "outputs": [],
   "source": [
    "wind\n",
    "\n",
    "wind = xr.open_dataset(\"http://iridl.ldeo.columbia.edu/SOURCES/.NOAA/.NCEP-DOE/.Reanalysis-2/.Monthly/.pgb/.pgb/.ugrdprs/P/200/VALUE/X/220/240/RANGE/Y/27/40/RANGE/[X/Y]average/SOURCES/.NOAA/.NCEP-DOE/.Reanalysis-2/.Monthly/.pgb/.pgb/.ugrdprs/P/200/VALUE/X/210/240/RANGE/Y/45/60/RANGE/[X/Y]average/sub/P/removeGRID/T/(days%20since%201960-01-01)streamgridunitconvert/dods\")"
   ]
  },
  {
   "cell_type": "code",
   "execution_count": null,
   "metadata": {},
   "outputs": [],
   "source": [
    "wind"
   ]
  },
  {
   "cell_type": "code",
   "execution_count": null,
   "metadata": {},
   "outputs": [],
   "source": [
    "\n",
    "\n",
    "precipdegreeurl=\"http://iridl.ldeo.columbia.edu/SOURCES/.NOAA/.NCEP/.CPC/.UNIFIED_PRCP/.GAUGE_BASED/.GLOBAL/.v1p0/.extREALTIME/.rain/T/monthlyAverage/T/%28Jan%201979%29/%28Dec%202018%29/RANGE/X/%28130W%29/%28100W%29/RANGE/Y/25/50/RANGE/X/1/boxAverage/Y/1/boxAverage/T/%28days%20since%201960-01-01%29streamgridunitconvert/dods\"\n",
    "precipdsdegree=xr.open_dataset(precipdegreeurl)\n",
    "#precipdsdegree=precipdsdegree.drop(\"\")"
   ]
  },
  {
   "cell_type": "code",
   "execution_count": null,
   "metadata": {},
   "outputs": [],
   "source": [
    "#compare resolutions \n",
    "plt.subplot(1, 2,1)\n",
    "precipds.rain.mean(dim=\"T\").plot()\n",
    "plt.title('.5 degree Res')\n",
    "\n",
    "plt.subplot(1, 2,2)\n",
    "precipdsdegree.rain.mean(dim=\"T\").plot()\n",
    "plt.title('1 degree res')\n",
    "plt.show()\n"
   ]
  },
  {
   "cell_type": "code",
   "execution_count": null,
   "metadata": {},
   "outputs": [],
   "source": [
    "precipanom=precipds.groupby('T.month') - precipds.groupby('T.month').mean('T')\n",
    "Spn=(precipanom.rain*ninods.sst).groupby(\"T.month\").mean(\"T\")\n",
    "Sn = ninods.sst.groupby('T.month').std('T')\n",
    "Sp = precipanom.rain.groupby('T.month').std('T')\n",
    "Cpn = Spn/Sn/Sp\n",
    "windanom=wind.groupby(\"T.month\")-wind.groupby(\"T.month\").mean(\"T\")\n",
    "Swn=(windanom.ugrdprs*ninods.sst).groupby(\"T.month\").mean(\"T\")\n",
    "Sw = windanom.ugrdprs.groupby('T.month').std('T')\n",
    "Cwn=Swn/Sn/Sw\n",
    "vn=ninods.sst.groupby('T.month').var('T')\n",
    "vw=windanom.ugrdprs.groupby('T.month').var('T')\n",
    "Spw=(windanom.ugrdprs*precipanom.rain).groupby(\"T.month\").mean(\"T\")\n",
    "Cpw=Spw/Sw/Sp\n",
    "Bpn=Spn/vn\n",
    "Bpw=Spw/vw"
   ]
  },
  {
   "cell_type": "code",
   "execution_count": null,
   "metadata": {},
   "outputs": [],
   "source": [
    "precipanomdegree=precipdsdegree.groupby('T.month') - precipdsdegree.groupby('T.month').mean('T')\n",
    "Spndegree=(precipanomdegree.rain*ninods.sst).groupby(\"T.month\").mean(\"T\")\n",
    "Spdegree = precipanomdegree.rain.groupby('T.month').std('T')\n",
    "Cpndegree = Spndegree/Sn/Spdegree\n",
    "Spwdegree=(windanom.ugrdprs*precipanomdegree.rain).groupby(\"T.month\").mean(\"T\")\n",
    "Cpwdegree=Spwdegree/Sw/Spdegree\n",
    "Bpndegree=Spndegree/vn\n",
    "Bpwdegree=Spwdegree/vw"
   ]
  },
  {
   "cell_type": "markdown",
   "metadata": {},
   "source": [
    "Function that calculates correlation and formats data for the map"
   ]
  },
  {
   "cell_type": "code",
   "execution_count": null,
   "metadata": {},
   "outputs": [],
   "source": [
    "def sample_data(month,typeof,resolution):\n",
    "    if typeof==\"Cpn\":\n",
    "        if resolution==\"half\":\n",
    "            data=Cpn[month]\n",
    "        else:\n",
    "            data=Cpndegree[month]\n",
    "    elif typeof==\"Cpw\":\n",
    "        if resolution==\"half\":\n",
    "            data=Cpw[month]\n",
    "        else:\n",
    "            data=Cpwdegree[month]\n",
    "    elif typeof==\"Bpw\":\n",
    "        if resolution==\"half\":\n",
    "            data=Bpw[month]\n",
    "        else:\n",
    "            data=Bpwdegree[month]\n",
    "    else:\n",
    "        if resolution==\"half\":\n",
    "            data=Bpn[month]\n",
    "        else:\n",
    "            data=Bpndegree[month]\n",
    "    nlats, nlons = np.shape(data)\n",
    "    if resolution==\"half\":\n",
    "        lats = np.linspace(24.75,50.25, nlats)\n",
    "        lons= np.linspace(-130.25,-99.75,nlons)\n",
    "    else:\n",
    "        lats = np.linspace(25,50, nlats)\n",
    "        lons= np.linspace(-130,-100,nlons)\n",
    "    lons, lats = np.meshgrid(lons, lats)\n",
    "    return lons, lats, data\n"
   ]
  },
  {
   "cell_type": "markdown",
   "metadata": {},
   "source": [
    "Function that plots map"
   ]
  },
  {
   "cell_type": "code",
   "execution_count": null,
   "metadata": {},
   "outputs": [],
   "source": [
    "#basic map plotter \n",
    "import cartopy.io.shapereader as shpreader\n",
    "\n",
    "def main(month,typeof,resolution,title):\n",
    "    central_lon, central_lat = -115, 40\n",
    "    extent = [-130,-100,25, 50]\n",
    "    ax = plt.axes(projection=ccrs.crs.Robinson())\n",
    "    ax.set_title(title)\n",
    "    ax.set_extent(extent)\n",
    "    ax.gridlines()\n",
    "    ax.coastlines(resolution='50m')\n",
    "    lons, lats, data = sample_data(month,typeof,resolution)\n",
    "    cb=ax.contourf(lons, lats, data,transform=ccrs.crs.PlateCarree(),cmap='nipy_spectral')\n",
    "    plt.colorbar(cb, cmap='nipy_spectral', orientation='vertical',ticklocation='auto')\n",
    "    levels = [-1,-.316,0,.316,1]\n",
    "    ax.contourf(lons, lats, data,levels=levels,hatches=[\".\",\" \",\" \",\".\"], alpha=1)\n",
    "    plt.show()\n",
    "\n",
    "\n"
   ]
  },
  {
   "cell_type": "markdown",
   "metadata": {},
   "source": [
    "Subplot function: "
   ]
  },
  {
   "cell_type": "code",
   "execution_count": null,
   "metadata": {},
   "outputs": [],
   "source": [
    "import cartopy.feature as cfeature\n",
    "def maincpn(month,resolution,title):\n",
    "    central_lon, central_lat = -115, 40\n",
    "    extent = [-130,-100,25, 50]\n",
    "    month=[\"Nov\",\"Dec\",\"Jan\",\"Feb\"]\n",
    "    fig, (ax1, ax2,ax3,ax4) = plt.subplots(ncols=4, subplot_kw={'projection': ccrs.crs.Robinson()},figsize=(30,5))\n",
    "    for i,j in enumerate([ax1,ax2,ax3,ax4]):\n",
    "        j.set_title(\"Cpn \"+month[i])\n",
    "        j.set_extent(extent)\n",
    "        j.gridlines()\n",
    "        j.coastlines(resolution=\"50m\")\n",
    "        j.add_feature(cfeature.STATES)\n",
    "        lonsn, latsn, datan = sample_data(10,\"Cpn\",resolution)\n",
    "        cbn=j.contourf(lonsn, latsn, datan,transform=ccrs.crs.PlateCarree(),cmap='nipy_spectral')\n",
    "        plt.colorbar(cbn, cmap='nipy_spectral', orientation='vertical',ticklocation='auto',ax=j)\n",
    "def maincpw(month,resolution,title):\n",
    "    central_lon, central_lat = -115, 40\n",
    "    extent = [-130,-100,25, 50]\n",
    "    month=[\"Nov\",\"Dec\",\"Jan\",\"Feb\"]\n",
    "    fig, (ax1, ax2,ax3,ax4) = plt.subplots(ncols=4, subplot_kw={'projection': ccrs.crs.Robinson()},figsize=(30,5))\n",
    "    for i,j in enumerate([ax1,ax2,ax3,ax4]):\n",
    "        j.set_title(\"Cpn \"+month[i])\n",
    "        j.set_extent(extent)\n",
    "        j.gridlines()\n",
    "        j.coastlines(resolution=\"50m\")\n",
    "        j.add_feature(cfeature.STATES)\n",
    "        lonsn, latsn, datan = sample_data(10,\"Cpw\",resolution)\n",
    "        cbn=j.contourf(lonsn, latsn, datan,transform=ccrs.crs.PlateCarree(),cmap='nipy_spectral')\n",
    "        plt.colorbar(cbn, cmap='nipy_spectral', orientation='vertical',ticklocation='auto',ax=j)"
   ]
  },
  {
   "cell_type": "markdown",
   "metadata": {},
   "source": [
    "Precip Nino corr at half degree resolution "
   ]
  },
  {
   "cell_type": "code",
   "execution_count": null,
   "metadata": {},
   "outputs": [],
   "source": [
    "\n",
    "if __name__ == '__main__':\n",
    "    maincpn(10,\"half\",\"title\")\n"
   ]
  },
  {
   "cell_type": "code",
   "execution_count": null,
   "metadata": {},
   "outputs": [],
   "source": [
    "Full Degree resolution: (Nino precip correlations)"
   ]
  },
  {
   "cell_type": "code",
   "execution_count": null,
   "metadata": {},
   "outputs": [],
   "source": [
    "if __name__ == '__main__':\n",
    "    maincpn(10,\"one\",\"title\")"
   ]
  },
  {
   "cell_type": "code",
   "execution_count": null,
   "metadata": {},
   "outputs": [],
   "source": [
    "Half Degree resolution: (Wind precip correlation )"
   ]
  },
  {
   "cell_type": "code",
   "execution_count": null,
   "metadata": {},
   "outputs": [],
   "source": [
    "\n",
    "if __name__ == '__main__':\n",
    "    maincpw(10,\"half\",\"title\")"
   ]
  },
  {
   "cell_type": "markdown",
   "metadata": {},
   "source": [
    "One degree resolution: (Wind precip)"
   ]
  },
  {
   "cell_type": "code",
   "execution_count": null,
   "metadata": {},
   "outputs": [],
   "source": [
    "\n",
    "if __name__ == '__main__':\n",
    "    maincpw(10,\"one\",\"title\")"
   ]
  },
  {
   "cell_type": "code",
   "execution_count": null,
   "metadata": {},
   "outputs": [],
   "source": [
    "precipds.rain.groupby(\"T.month\").mean(\"T\").plot(x='X', y='Y', col='month', col_wrap=3)"
   ]
  },
  {
   "cell_type": "markdown",
   "metadata": {},
   "source": [
    "Regression: "
   ]
  },
  {
   "cell_type": "code",
   "execution_count": null,
   "metadata": {},
   "outputs": [],
   "source": [
    "vn=ninods.sst.groupby('T.month').var('T')\n",
    "vw=windanom.ugrdprs.groupby('T.month').var('T')\n",
    "Bpn=Spn/vn\n",
    "Bpn_0=precipanom.rain.mean(\"T\")-ninods.sst.groupby('T.month').mean(\"T\")*Bpn\n",
    "Bpw=Spw/vw\n",
    "Bpw_0=precipanom.rain.mean(\"T\")-wind.ugrdprs.groupby(\"T.month\").mean(\"T\")*Bpw\n",
    "Bpw_0"
   ]
  },
  {
   "cell_type": "markdown",
   "metadata": {},
   "source": [
    "Multi linear regression "
   ]
  },
  {
   "cell_type": "code",
   "execution_count": null,
   "metadata": {},
   "outputs": [],
   "source": [
    "precipanomnongroup=precipds - precipds.mean('T')\n",
    "precipanom\n",
    "windanomnongroup=wind-wind.mean(\"T\")\n",
    "precipanom"
   ]
  },
  {
   "cell_type": "code",
   "execution_count": null,
   "metadata": {},
   "outputs": [],
   "source": [
    "def pd_regress(x,y,month):\n",
    "    precipdsmonth=precipds.sel(T=precipds['T.month']==month)\n",
    "    windmonth=wind.sel(T=wind[\"T.month\"]==month)\n",
    "    ninodsmonth=ninods.sel(T=ninods[\"T.month\"]==month)\n",
    "    windcoef=np.empty((52,62))\n",
    "    sstcoef=np.empty((52,62))\n",
    "    cons=np.empty((52,62))\n",
    "    rain=precipdsmonth.rain-precipds.rain.mean(\"T\")\n",
    "    windvar=windmonth.ugrdprs-wind.ugrdprs.mean(\"T\")\n",
    "    sstvar=ninodsmonth.sst\n",
    "    a_array=np.ones((40,3))\n",
    "    a_array[:,0]=sstvar\n",
    "    a_array[:,1]=windvar\n",
    "    a_matrix=np.matmul(np.transpose(a_array),a_array)\n",
    "    for i in range(62):\n",
    "        for j in range(52):\n",
    "            b_array=np.array(rain.sel(Y=y[j,i],X=x[j,i]))\n",
    "            B=np.matmul(np.transpose(a_array),b_array)\n",
    "            X=np.linalg.solve(a_matrix,B) \n",
    "            windcoef[j,i]=X[0]\n",
    "            sstcoef[j,i]=X[1]\n",
    "            cons[j,i]=X[2]\n",
    "    return windcoef,sstcoef,cons,b_array\n",
    "def sample_dataregress(month,shape=(62, 52)):\n",
    "    \"\"\"Return ``lons``, ``lats`` and ``data`` of some fake data.\"\"\"\n",
    "    nlons, nlats = shape\n",
    "    lats = np.linspace(24.75,50.25, nlats)\n",
    "    lons= np.linspace(-130.25,-99.75,nlons)\n",
    "    lons, lats = np.meshgrid(lons, lats)\n",
    "    datasst = pd_regress(lons,lats,month)[0]\n",
    "    datawind = pd_regress(lons,lats,month)[1]\n",
    "    const=pd_regress(lons,lats,month)[2]\n",
    "    precip=pd_regress(lons,lats,month)[3]\n",
    "    return lons, lats, datasst,datawind,const,precip\n",
    "#plot the coeffcicienys\n",
    "#average over space and do an f test "
   ]
  },
  {
   "cell_type": "code",
   "execution_count": null,
   "metadata": {},
   "outputs": [],
   "source": [
    "\n",
    "def main(month,title):\n",
    "    central_lon, central_lat = -115, 40\n",
    "    extent = [-130,-100,25, 50]\n",
    "    fig, (ax1, ax2) = plt.subplots(ncols=2, subplot_kw={'projection': ccrs.crs.Robinson()},figsize=(10,5))\n",
    "    ax1.set_title(title+\"sst\")\n",
    "    ax1.set_extent(extent)\n",
    "    ax1.gridlines()\n",
    "    ax1.coastlines(resolution='50m')\n",
    "    lons, lats, datasst,datawind,const,b= sample_dataregress(month)\n",
    "    cb=ax1.contourf(lons, lats, datasst,transform=ccrs.crs.PlateCarree(),cmap='nipy_spectral')\n",
    "    plt.colorbar(cb, cmap='nipy_spectral', orientation='vertical',ticklocation='auto',ax=ax1)\n",
    "    ax2.set_title(title+\"wind\")\n",
    "    ax2.set_extent(extent)\n",
    "    ax2.gridlines()\n",
    "    ax2.coastlines(resolution='50m')\n",
    "    lons, lats, datasst,datawind,const,b = sample_dataregress(month)\n",
    "    cb=ax2.contourf(lons, lats, datawind,transform=ccrs.crs.PlateCarree(),cmap='nipy_spectral')\n",
    "    plt.colorbar(cb, cmap='nipy_spectral', orientation='vertical',ticklocation='auto',ax=ax2)\n",
    "if __name__ == '__main__':\n",
    "    main(1,\"January \")\n",
    "    main(2,\"February\")\n",
    "    main(11,\"November\")\n",
    "    main(12,\"December\")"
   ]
  },
  {
   "cell_type": "markdown",
   "metadata": {},
   "source": [
    "F-Test for signifigance: \n"
   ]
  },
  {
   "cell_type": "code",
   "execution_count": null,
   "metadata": {},
   "outputs": [],
   "source": [
    "np.shape(np.array(Bpw_0[:,:,0]))"
   ]
  },
  {
   "cell_type": "code",
   "execution_count": null,
   "metadata": {},
   "outputs": [],
   "source": [
    "lon,lat,cs,cw,cons,barray=sample_dataregress(1)\n",
    "S=ninods.sel(T=ninods[\"T.month\"]==1).sst\n",
    "W=windanomnongroup.sel(T=wind[\"T.month\"]==1).ugrdprs\n",
    "P=precipanomnongroup.sel(T=precipds[\"T.month\"]==1).rain"
   ]
  },
  {
   "cell_type": "code",
   "execution_count": null,
   "metadata": {},
   "outputs": [],
   "source": [
    "errormat=np.zeros((52,62))\n",
    "for i in range(62):\n",
    "        for j in range(52):\n",
    "            precip=np.array(P.sel(Y=lat[j,i],X=lon[j,i]))\n",
    "            error=precip-(W*cw[j,i]+S*cs[j,i]+cons[j,i])\n",
    "            errormat[j,i]=np.nansum(np.square(error))"
   ]
  },
  {
   "cell_type": "code",
   "execution_count": null,
   "metadata": {},
   "outputs": [],
   "source": [
    "errorwind=np.zeros((52,62))\n",
    "for i in range(62):\n",
    "        for j in range(52):\n",
    "            precip=np.array(P.sel(Y=lat[j,i],X=lon[j,i]))\n",
    "            error=precip-((W*np.array(Bpw[0])[j,i])+np.array(Bpw_0[:,:,0])[j,i])\n",
    "            errorwind[j,i]=np.nansum(np.square(error))\n"
   ]
  },
  {
   "cell_type": "code",
   "execution_count": null,
   "metadata": {},
   "outputs": [],
   "source": [
    "errorsst=np.zeros((52,62))\n",
    "for i in range(62):\n",
    "        for j in range(52):\n",
    "            precip=np.array(P.sel(Y=lat[j,i],X=lon[j,i]))\n",
    "            error=precip-((W*np.array(Bpn[0])[j,i])+np.array(Bpn_0[:,:,0])[j,i])\n",
    "            errorsst[j,i]=np.nansum(np.square(error))\n"
   ]
  }
 ],
 "metadata": {
  "kernelspec": {
   "display_name": "Python 3",
   "language": "python",
   "name": "python3"
  },
  "language_info": {
   "codemirror_mode": {
    "name": "ipython",
    "version": 3
   },
   "file_extension": ".py",
   "mimetype": "text/x-python",
   "name": "python",
   "nbconvert_exporter": "python",
   "pygments_lexer": "ipython3",
   "version": "3.7.1"
  }
 },
 "nbformat": 4,
 "nbformat_minor": 2
}
