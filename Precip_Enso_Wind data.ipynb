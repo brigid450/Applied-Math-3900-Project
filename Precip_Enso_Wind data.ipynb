{
 "cells": [
  {
   "cell_type": "code",
   "execution_count": null,
   "metadata": {},
   "outputs": [],
   "source": [
    "import sys\n",
    "!conda install --yes cartopy dask netCDF4 bottleneck"
   ]
  },
  {
   "cell_type": "code",
   "execution_count": null,
   "metadata": {},
   "outputs": [],
   "source": [
    "import pandas as pd\n",
    "import xarray as xr\n",
    "import numpy as np\n",
    "import cartopy as ccrs\n",
    "from matplotlib import pyplot as plt\n",
    "%matplotlib inline"
   ]
  },
  {
   "cell_type": "markdown",
   "metadata": {},
   "source": [
    "Looking at 1979-2018 Rainfall on the state of California, (NOA extRealtime precipitation) as well as the ENSO anomalies"
   ]
  },
  {
   "cell_type": "code",
   "execution_count": null,
   "metadata": {},
   "outputs": [],
   "source": [
    "precipurlbymonth=\"http://iridl.ldeo.columbia.edu/SOURCES/.NOAA/.NCEP/.CPC/.UNIFIED_PRCP/.GAUGE_BASED/.GLOBAL/.v1p0/.extREALTIME/.rain/T/monthlyAverage/T/%28Jan%201979%29/%28Dec%202018%29/RANGE/X/%28130W%29/%28100W%29/RANGE/Y/25/50/RANGE/dods\"\n",
    "precipds=xr.open_dataset(precipurlbymonth,decode_times=False)\n",
    "precipds\n",
    "ninourl=\"http://iridl.ldeo.columbia.edu/SOURCES/.NOAA/.NCDC/.ERSST/.version5/.sst/Y/-5/5/RANGEEDGES/X/190/240/RANGEEDGES/%5BX/Y%5Daverage/yearly-anomalies/T/%28Jan%201979%29/%28Dec%202018%29/RANGE/dods \"\n",
    "ninods=xr.open_dataset(ninourl,decode_times=False)\n",
    "ninods\n"
   ]
  },
  {
   "cell_type": "code",
   "execution_count": null,
   "metadata": {
    "scrolled": true
   },
   "outputs": [],
   "source": [
    "plt.figure(figsize=(8, 10))\n",
    "plt.subplot(211)\n",
    "precipds.rain.mean(dim='T').plot()"
   ]
  },
  {
   "cell_type": "markdown",
   "metadata": {},
   "source": [
    "Make a function that separates by month for funky time units "
   ]
  },
  {
   "cell_type": "code",
   "execution_count": null,
   "metadata": {},
   "outputs": [],
   "source": [
    "def monthfun(month):\n",
    "    startvalue=month+228.5\n",
    "    time=np.empty((40))\n",
    "    time[0]=startvalue\n",
    "    for i in range(39):\n",
    "        time[i+1]=time[i]+12\n",
    "    return time"
   ]
  },
  {
   "cell_type": "markdown",
   "metadata": {},
   "source": [
    "Function that calculates correlation and formats data for the map"
   ]
  },
  {
   "cell_type": "code",
   "execution_count": null,
   "metadata": {},
   "outputs": [],
   "source": [
    "def pd_corr(x,y,month):\n",
    "    print(y.shape)\n",
    "    print(x.shape)\n",
    "    corrarray=np.empty((52,62))\n",
    "    rain=precipds.rain.sel(T=monthfun(month))\n",
    "    sst=ninods.sst\n",
    "    for i in range(62):\n",
    "        for j in range(52):\n",
    "            timeseries1=xr.DataArray(rain.sel(Y=y[j,i],X=x[j,i]))\n",
    "            timeseries2=xr.DataArray(sst.sel(zlev=0))\n",
    "            corrarray[j,i]=timeseries1.to_series().corr(timeseries2.to_series())\n",
    "    return corrarray\n",
    "def sample_data(month,shape=(62, 52)):\n",
    "    \"\"\"Return ``lons``, ``lats`` and ``data`` of some fake data.\"\"\"\n",
    "    nlons, nlats = shape\n",
    "    lats = np.linspace(24.75,50.25, nlats)\n",
    "    lons= np.linspace(-130.25,-99.75,nlons)\n",
    "    lons, lats = np.meshgrid(lons, lats)\n",
    "    data = pd_corr(lons,lats,month)\n",
    "    return lons, lats, data\n",
    "correlatejan=sample_data(0)\n",
    "#correlate[2].shape"
   ]
  },
  {
   "cell_type": "markdown",
   "metadata": {},
   "source": [
    "Function that plots map"
   ]
  },
  {
   "cell_type": "code",
   "execution_count": null,
   "metadata": {},
   "outputs": [],
   "source": [
    "\n",
    "import cartopy.io.shapereader as shpreader\n",
    "\n",
    "def main(month,title):\n",
    "    central_lon, central_lat = -115, 40\n",
    "    extent = [-130,-100,25, 50]\n",
    "    ax = plt.axes(projection=ccrs.crs.Robinson())\n",
    "    ax.set_title(title)\n",
    "    ax.set_extent(extent)\n",
    "    ax.gridlines()\n",
    "    ax.coastlines(resolution='50m')\n",
    "    lons, lats, data = sample_data(month)\n",
    "    cb=ax.contourf(lons, lats, data,transform=ccrs.crs.PlateCarree(),cmap='nipy_spectral')\n",
    "    plt.colorbar(cb, cmap='nipy_spectral', orientation='vertical',ticklocation='auto')\n",
    "    \n",
    "    plt.show()\n",
    "\n",
    "if __name__ == '__main__':\n",
    "    main(0,\"January precip-niño\")"
   ]
  },
  {
   "cell_type": "code",
   "execution_count": null,
   "metadata": {},
   "outputs": [],
   "source": [
    "if __name__ == '__main__':\n",
    "    main(1,\"February precip-niño\")"
   ]
  },
  {
   "cell_type": "code",
   "execution_count": null,
   "metadata": {},
   "outputs": [],
   "source": [
    "if __name__ == '__main__':\n",
    "    main(11,\"December precip-niño\")"
   ]
  },
  {
   "cell_type": "code",
   "execution_count": null,
   "metadata": {},
   "outputs": [],
   "source": [
    "if __name__ == '__main__':\n",
    "    main(10,\"November precip-niño\")"
   ]
  },
  {
   "cell_type": "code",
   "execution_count": null,
   "metadata": {},
   "outputs": [],
   "source": [
    "\n",
    "\n"
   ]
  },
  {
   "cell_type": "markdown",
   "metadata": {},
   "source": [
    "Statistical Signifigance: "
   ]
  }
 ],
 "metadata": {
  "kernelspec": {
   "display_name": "Python 3",
   "language": "python",
   "name": "python3"
  },
  "language_info": {
   "codemirror_mode": {
    "name": "ipython",
    "version": 3
   },
   "file_extension": ".py",
   "mimetype": "text/x-python",
   "name": "python",
   "nbconvert_exporter": "python",
   "pygments_lexer": "ipython3",
   "version": "3.7.1"
  }
 },
 "nbformat": 4,
 "nbformat_minor": 2
}
