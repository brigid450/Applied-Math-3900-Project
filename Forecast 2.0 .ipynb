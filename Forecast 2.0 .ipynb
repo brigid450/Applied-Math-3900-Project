{
 "cells": [
  {
   "cell_type": "code",
   "execution_count": null,
   "metadata": {},
   "outputs": [],
   "source": [
    "import pandas as pd\n",
    "import xarray as xr\n",
    "import numpy as np\n",
    "import cartopy as ccrs\n",
    "from matplotlib import pyplot as plt\n",
    "from netCDF4 import Dataset\n",
    "%matplotlib inline"
   ]
  },
  {
   "cell_type": "code",
   "execution_count": null,
   "metadata": {},
   "outputs": [],
   "source": [
    "precipforcasturl = \"http://iridl.ldeo.columbia.edu/SOURCES/.Models/.SubX/.ESRL/.FIMr1p1/.hindcast/.pr/L/2.5/31.5/RANGEEDGES/%5BL%5D/average/X/-130.25/-99.75/RANGE/Y/24.75/50.25/RANGE/dods \"\n",
    "rainforcast=xr.open_dataset(precipforcasturl, chunks={'S': 100})\n",
    "sstforecasturl=\"http://iridl.ldeo.columbia.edu/SOURCES/.Models/.SubX/.ESRL/.FIMr1p1/.hindcast/.ts/L/2.5/31.5/RANGEEDGES/%5BL%5Daverage/Y/-5/5/RANGEEDGES/X/190/240/RANGEEDGES/dods \"\n",
    "sstforcast=xr.open_dataset(sstforecasturl, chunks={'S': 100})\n",
    "windforcasturl=\"http://iridl.ldeo.columbia.edu/SOURCES/.Models/.SubX/.ESRL/.FIMr1p1/.hindcast/.ua/L/2.5/31.5/RANGEEDGES/%5BL%5D/average/X/220/240/RANGE/Y/27/40/RANGE/[X/Y]average/dods\"\n",
    "windforcast=xr.open_dataset(windforcasturl,chunks={\"S\":100})"
   ]
  },
  {
   "cell_type": "code",
   "execution_count": null,
   "metadata": {},
   "outputs": [],
   "source": [
    "windforcast=windforcast.sel(P=200)\n",
    "sstforcast=sstforcast.mean([\"X\",\"Y\"])\n"
   ]
  },
  {
   "cell_type": "code",
   "execution_count": null,
   "metadata": {},
   "outputs": [],
   "source": [
    "windforcast\n"
   ]
  },
  {
   "cell_type": "code",
   "execution_count": null,
   "metadata": {},
   "outputs": [],
   "source": [
    "sstforcast"
   ]
  },
  {
   "cell_type": "code",
   "execution_count": null,
   "metadata": {},
   "outputs": [],
   "source": [
    "rainforcast\n"
   ]
  },
  {
   "cell_type": "markdown",
   "metadata": {},
   "source": [
    "Make Adjusted time arrays: "
   ]
  },
  {
   "cell_type": "code",
   "execution_count": null,
   "metadata": {},
   "outputs": [],
   "source": [
    "td = np.timedelta64(15,'D')"
   ]
  },
  {
   "cell_type": "code",
   "execution_count": null,
   "metadata": {},
   "outputs": [],
   "source": [
    "pr=np.array(rainforcast.pr)\n",
    "T=np.array(rainforcast.coords[\"S\"])+td\n",
    "M=np.array(rainforcast.coords[\"M\"])\n",
    "pforcast_adjtime= xr.Dataset(data_vars={'pr':    (('T', 'M','Y','X'), pr)},coords={'T': T,'M': M,'Y':rainforcast.coords[\"Y\"],'X':rainforcast.coords[\"X\"]},)\n",
    "pforcast_adjtime"
   ]
  },
  {
   "cell_type": "code",
   "execution_count": null,
   "metadata": {},
   "outputs": [],
   "source": [
    "ua=np.array(windforcast.ua)\n",
    "T=np.array(windforcast.coords[\"S\"])+td\n",
    "M=np.array(windforcast.coords[\"M\"])\n",
    "np.shape(ua)"
   ]
  },
  {
   "cell_type": "code",
   "execution_count": null,
   "metadata": {},
   "outputs": [],
   "source": [
    "wforcast_adjtime= xr.Dataset(data_vars={'ua':  (('T', 'M'), ua)},coords={'T': T,'M': M},)\n",
    "wforcast_adjtime"
   ]
  },
  {
   "cell_type": "code",
   "execution_count": null,
   "metadata": {},
   "outputs": [],
   "source": [
    "ts=np.array(sstforcast.ts)\n",
    "T=np.array(windforcast.coords[\"S\"])+td\n",
    "M=np.array(windforcast.coords[\"M\"])\n",
    "sstforcast_adjtime= xr.Dataset(data_vars={'ts':  (('T', 'M'), ts)},coords={'T': T,'M': M},)\n",
    "sstforcast_adjtime"
   ]
  },
  {
   "cell_type": "code",
   "execution_count": null,
   "metadata": {},
   "outputs": [],
   "source": [
    "import cartopy.feature as cfeature\n",
    "def plotmap(data,title,resolution=\"one\",ax=plt.axes(projection=ccrs.crs.Robinson()),colorbar=\"auto\"):\n",
    "    central_lon, central_lat = -115, 40\n",
    "    extent = [-130,-100,25, 50]\n",
    "    ax.set_title(title)\n",
    "    ax.set_extent(extent)\n",
    "    ax.gridlines()\n",
    "    ax.coastlines(resolution='50m')\n",
    "    ax.add_feature(cfeature.STATES)\n",
    "    lons, lats = getlonlat(resolution)\n",
    "    cb=ax.contourf(lons, lats, data,transform=ccrs.crs.PlateCarree(),cmap='nipy_spectral')\n",
    "    if colorbar==\"auto\":\n",
    "        plt.colorbar(cb, cmap='nipy_spectral', orientation='vertical',ticklocation='auto')\n",
    "    else:\n",
    "        return cb\n",
    "def getlonlat(resolution):\n",
    "    if resolution==\"half\":\n",
    "        lats = np.linspace(24.75,50.25, 52)\n",
    "        lons= np.linspace(-130.25,-99.75,62)\n",
    "    else:\n",
    "        lats = np.linspace(24,51, 28)\n",
    "        lons= np.linspace(-131,-99,33)\n",
    "    return lons, lats"
   ]
  },
  {
   "cell_type": "code",
   "execution_count": null,
   "metadata": {},
   "outputs": [],
   "source": [
    "month=[\"Nov\",\"Dec\",\"Jan\",\"Feb\"]\n",
    "monthnum=[10,11,1,2]\n",
    "fig, (ax1, ax2,ax3,ax4) = plt.subplots(ncols=4, subplot_kw={'projection': ccrs.crs.Robinson()},figsize=(30,5))\n",
    "for i,j in enumerate([ax1,ax2,ax3,ax4]):\n",
    "    pmonth=pforcast_adjtime.sel(T=pforcast_adjtime[\"T.month\"]==monthnum[i])\n",
    "    rainanom=pmonth - pmonth.mean('T')\n",
    "    sstmonth=sstforcast_adjtime.sel(T=wforcast_adjtime[\"T.month\"]==monthnum[i])\n",
    "    data1=rainanom\n",
    "    data2=sstmonth\n",
    "    cov=(data2.ts*data1.pr).mean([\"T\",\"M\"])\n",
    "    s1=data1.pr.std([\"T\",\"M\"])\n",
    "    s2=data2.ts.std([\"T\",\"M\"])\n",
    "    plot=cov/s1/s2\n",
    "    cb=plotmap(plot,\"Correlation Forecast Precip and SST \"+month[i],resolution=\"one\",ax=j,colorbar=\"nonauto\")\n",
    "cbar=fig.add_axes([.9, 0.15, 0.02, 0.5])\n",
    "fig.colorbar(cb,cax=cbar)\n"
   ]
  },
  {
   "cell_type": "code",
   "execution_count": null,
   "metadata": {},
   "outputs": [],
   "source": [
    "month=[\"Nov\",\"Dec\",\"Jan\",\"Feb\"]\n",
    "monthnum=[10,11,1,2]\n",
    "fig, (ax1, ax2,ax3,ax4) = plt.subplots(ncols=4, subplot_kw={'projection': ccrs.crs.Robinson()},figsize=(30,5))\n",
    "for i,j in enumerate([ax1,ax2,ax3,ax4]):\n",
    "    pmonth=pforcast_adjtime.sel(T=pforcast_adjtime[\"T.month\"]==monthnum[i])\n",
    "    rainanom=pmonth - pmonth.mean('T')\n",
    "    wmonth=wforcast_adjtime.sel(T=wforcast_adjtime[\"T.month\"]==monthnum[i])\n",
    "    windanom=wmonth-wmonth.mean(\"T\")\n",
    "    data1=rainanom\n",
    "    data2=windanom\n",
    "    cov=(data2.ua*data1.pr).mean([\"T\",\"M\"])\n",
    "    s1=data1.pr.std([\"T\",\"M\"])\n",
    "    s2=data2.ua.std([\"T\",\"M\"])\n",
    "    plot=cov/s1/s2\n",
    "    cb=plotmap(plot,\"Correlation Forecast Precip and Wind \"+month[i],resolution=\"one\",ax=j,colorbar=\"nonauto\")\n",
    "cbar=fig.add_axes([.9, 0.15, 0.02, 0.5])\n",
    "fig.colorbar(cb,cax=cbar)"
   ]
  },
  {
   "cell_type": "code",
   "execution_count": null,
   "metadata": {},
   "outputs": [],
   "source": [
    "#A linear algebra regression function \n",
    "def regress(a,b):\n",
    "    A=np.matmul(np.transpose(a),a)\n",
    "    B=np.matmul(np.transpose(a),b)\n",
    "    return np.linalg.solve(A,B)\n",
    "    \n",
    "\n",
    "    \n",
    "#tshape is a multiplication of other variables (4 M variables* t, the resulting matrices will be 4t long)\n",
    "#dependent is the b matrix \n",
    "#indenepent is one of the a matrices\n",
    "#precipiation is our constant a matrix \n",
    "# this function computes two coefficients for ax=b and correlates their respectives squared errors \n",
    "\n",
    "\n",
    "def partialcorr(dependent,independent,precip,month,shape,tshape):\n",
    "    error1=np.empty((shape[0],shape[1],tshape*4))\n",
    "    b2=dependent\n",
    "    a=np.ones((tshape*4,2))\n",
    "    for k,m in enumerate([1.0,2.0,3.0,4.0]):\n",
    "            a[k*tshape:(k+1)*tshape,0]=np.array(independent.sel(M=m))\n",
    "    if shape==(52,62):\n",
    "        x,y=getlonlat(\"half\")\n",
    "    else:\n",
    "         x,y=getlonlat(\"one\")\n",
    "    for i in range(shape[1]):\n",
    "        for j in range(shape[0]):\n",
    "            b_array1=np.ones((tshape*4))\n",
    "            for k,m in enumerate([1.0,2.0,3.0,4.0]):\n",
    "                    b_array1[k*tshape:(k+1)*tshape]=np.array(precip.sel(Y=y[j],X=x[i],M=m))\n",
    "            x1=regress(a,b_array1)\n",
    "            error1[j,i,:]=np.square(b_array1-np.matmul(a,x1))\n",
    "    b_array2=np.ones((tshape*4))\n",
    "    for k,m in enumerate([1.0,2.0,3.0,4.0]):\n",
    "        b_array2[k*tshape:(k+1)*tshape]=np.array(b2.sel(M=m))\n",
    "    x2=regress(a,b_array2)\n",
    "    error2=np.square(b_array2-np.matmul(a,x2))\n",
    "    pc=np.empty(shape)\n",
    "    for i in range(shape[1]):\n",
    "        for j in range(shape[0]):\n",
    "            pc[j,i]=np.corrcoef(error1[j,i,:],error2)[0,1]\n",
    "    return pc\n",
    "        \n",
    "        \n"
   ]
  },
  {
   "cell_type": "code",
   "execution_count": null,
   "metadata": {},
   "outputs": [],
   "source": [
    "windanom=wforcast_adjtime.groupby('T.month') - wforcast_adjtime.groupby('T.month').mean('T')\n",
    "rainanom=pforcast_adjtime.groupby('T.month') - pforcast_adjtime.groupby('T.month').mean('T')\n",
    "prep=rainanom.pr.sel(T=rainanom[\"T.month\"]==10)\n",
    "ind=windanom.ua.sel(T=windanom[\"T.month\"]==10)\n",
    "dep=sstforcast_adjtime.ts.sel(T=sstforcast_adjtime[\"T.month\"]==10)\n",
    "pc_10_wind_ind=partialcorr(ind,dep,prep,1,(28,33),79)"
   ]
  },
  {
   "cell_type": "code",
   "execution_count": null,
   "metadata": {},
   "outputs": [],
   "source": [
    "plotmap(pc_10_wind_ind,\"oj\",resolution=\"one\",ax=plt.axes(projection=ccrs.crs.Robinson()),colorbar=\"auto\")"
   ]
  },
  {
   "cell_type": "code",
   "execution_count": null,
   "metadata": {},
   "outputs": [],
   "source": [
    "month=[\"Nov\",\"Dec\",\"Jan\",\"Feb\"]\n",
    "monthnum=[10,11,1,2]\n",
    "fig, (ax1, ax2,ax3,ax4) = plt.subplots(ncols=4, subplot_kw={'projection': ccrs.crs.Robinson()},figsize=(30,5))\n",
    "for i,j in enumerate([ax1,ax2,ax3,ax4]):\n",
    "    pmonth=pforcast_adjtime.sel(T=pforcast_adjtime[\"T.month\"]==monthnum[i])\n",
    "    rainanom=pmonth - pmonth.mean('T')\n",
    "    wmonth=wforcast_adjtime.sel(T=wforcast_adjtime[\"T.month\"]==monthnum[i])\n",
    "    sstmonth=sstforcast_adjtime.sel(T=wforcast_adjtime[\"T.month\"]==monthnum[i])\n",
    "    windanom=wmonth-wmonth.mean(\"T\")\n",
    "    plot=partialcorr(windanom.ua,sstmonth.ts,rainanom.pr,1,(28,33),np.shape(windanom.ua)[0])\n",
    "    cb=plotmap(plot,\"PC sst independent \"+month[i],resolution=\"one\",ax=j,colorbar=\"nonauto\")\n",
    "cbar=fig.add_axes([.9, 0.15, 0.02, 0.5])\n",
    "fig.colorbar(cb,cax=cbar)"
   ]
  },
  {
   "cell_type": "code",
   "execution_count": null,
   "metadata": {},
   "outputs": [],
   "source": [
    "month=[\"Nov\",\"Dec\",\"Jan\",\"Feb\"]\n",
    "monthnum=[10,11,1,2]\n",
    "fig, (ax1, ax2,ax3,ax4) = plt.subplots(ncols=4, subplot_kw={'projection': ccrs.crs.Robinson()},figsize=(30,5))\n",
    "for i,j in enumerate([ax1,ax2,ax3,ax4]):\n",
    "    pmonth=pforcast_adjtime.sel(T=pforcast_adjtime[\"T.month\"]==monthnum[i])\n",
    "    rainanom=pmonth - pmonth.mean('T')\n",
    "    wmonth=wforcast_adjtime.sel(T=wforcast_adjtime[\"T.month\"]==monthnum[i])\n",
    "    sstmonth=sstforcast_adjtime.sel(T=wforcast_adjtime[\"T.month\"]==monthnum[i])\n",
    "    windanom=wmonth-wmonth.mean(\"T\")\n",
    "    plot=partialcorr(sstmonth.ts,windanom.ua,rainanom.pr,1,(28,33),np.shape(windanom.ua)[0])\n",
    "    cb=plotmap(plot,\"PC Wind independent \"+month[i],resolution=\"one\",ax=j,colorbar=\"nonauto\")\n",
    "cbar=fig.add_axes([.9, 0.15, 0.02, 0.5])\n",
    "fig.colorbar(cb,cax=cbar)"
   ]
  },
  {
   "cell_type": "markdown",
   "metadata": {},
   "source": [
    "Interpretation: For wind independent we are looking at the resulting correlation between sst and precipitation when their relationship with wind is removed.\n",
    "Whereas when sst is indepeendent we are looking at the resulting correlation between wind and precipiation when sst is removed. \n"
   ]
  },
  {
   "cell_type": "markdown",
   "metadata": {},
   "source": [
    "Signifigance for sample size: "
   ]
  },
  {
   "cell_type": "code",
   "execution_count": null,
   "metadata": {},
   "outputs": [],
   "source": [
    "2/np.sqrt(77*4)"
   ]
  },
  {
   "cell_type": "markdown",
   "metadata": {},
   "source": [
    "partialcorrcheck"
   ]
  },
  {
   "cell_type": "code",
   "execution_count": null,
   "metadata": {},
   "outputs": [],
   "source": [
    "def makea(data,shape):\n",
    "    a=np.ones((shape*4,2))\n",
    "    for i,k in enumerate([1.0,2.0,3.0,4.0]):\n",
    "        a[i*shape:i*shape+shape,0]=data.sel(M=k)\n",
    "    return a \n",
    "def makeb(data,shape,isitprecip,y,x):\n",
    "    if isitprecip==True:\n",
    "        b=np.empty((shape*4))\n",
    "        for i,k in enumerate([1.0,2.0,3.0,4.0]):\n",
    "            b[i*shape:i*shape+shape]=data.sel(M=k,X=x,Y=y)\n",
    "    else:\n",
    "        b=np.empty((shape*4))\n",
    "        for i,k in enumerate([1.0,2.0,3.0,4.0]):\n",
    "            b[i*shape:i*shape+shape]=data.sel(M=k)\n",
    "    return b \n",
    "def partialcorr2(a,b1,b2,x,y,tshape):\n",
    "    b_2=makeb(b2,tshape,False,1,1)\n",
    "    a=makea(a,tshape)\n",
    "    error=np.empty((len(y),len(x)))\n",
    "    x_2=regress(a,b_2)\n",
    "    error2=np.square(b_2-np.matmul(a,x_2))\n",
    "    for l,i in enumerate(y):\n",
    "        for k,j in enumerate(x):\n",
    "            b_1=makeb(b1,tshape,True,i,j)\n",
    "            x_1=regress(a,b_1)\n",
    "            error1=np.square(b_1-np.matmul(a,x_1))\n",
    "            error[l,k]=np.cov(error1,error2)[0,1]/np.std(error1)/np.std(error2)\n",
    "    return error \n",
    "x,y=getlonlat(\"one\")\n",
    "\n",
    "                \n",
    "            \n",
    "            "
   ]
  },
  {
   "cell_type": "code",
   "execution_count": null,
   "metadata": {},
   "outputs": [],
   "source": [
    "np.shape(getlonlat(\"one\")[0])\n",
    "np.shape(getlonlat(\"one\")[1])"
   ]
  },
  {
   "cell_type": "code",
   "execution_count": null,
   "metadata": {},
   "outputs": [],
   "source": [
    "plotmap(partialcorr2(sstmonth.ts,rainanom.pr,windanom.ua,x,y,76),\"oj\",resolution=\"one\",ax=plt.axes(projection=ccrs.crs.Robinson()),colorbar=\"auto\")"
   ]
  },
  {
   "cell_type": "code",
   "execution_count": null,
   "metadata": {},
   "outputs": [],
   "source": [
    "month=[\"Nov\",\"Dec\",\"Jan\",\"Feb\"]\n",
    "monthnum=[10,11,1,2]\n",
    "fig, (ax1, ax2,ax3,ax4) = plt.subplots(ncols=4, subplot_kw={'projection': ccrs.crs.Robinson()},figsize=(30,5))\n",
    "for i,j in enumerate([ax1,ax2,ax3,ax4]):\n",
    "    pmonth=pforcast_adjtime.sel(T=pforcast_adjtime[\"T.month\"]==monthnum[i])\n",
    "    rainanom=pmonth - pmonth.mean('T')\n",
    "    wmonth=wforcast_adjtime.sel(T=wforcast_adjtime[\"T.month\"]==monthnum[i])\n",
    "    sstmonth=sstforcast_adjtime.sel(T=wforcast_adjtime[\"T.month\"]==monthnum[i])\n",
    "    windanom=wmonth-wmonth.mean(\"T\")\n",
    "    x,y=getlonlat(\"one\")\n",
    "    plot=partialcorr2(sstmonth.ts,rainanom.pr,windanom.ua,x,y,np.shape(windanom.ua)[0])\n",
    "    cb=plotmap(plot,\"PC sst independent \"+month[i],resolution=\"one\",ax=j,colorbar=\"nonauto\")\n",
    "cbar=fig.add_axes([.9, 0.15, 0.02, 0.5])\n",
    "fig.colorbar(cb,cax=cbar)"
   ]
  },
  {
   "cell_type": "code",
   "execution_count": null,
   "metadata": {},
   "outputs": [],
   "source": [
    "month=[\"Nov\",\"Dec\",\"Jan\",\"Feb\"]\n",
    "monthnum=[10,11,1,2]\n",
    "fig, (ax1, ax2,ax3,ax4) = plt.subplots(ncols=4, subplot_kw={'projection': ccrs.crs.Robinson()},figsize=(30,5))\n",
    "for i,j in enumerate([ax1,ax2,ax3,ax4]):\n",
    "    pmonth=pforcast_adjtime.sel(T=pforcast_adjtime[\"T.month\"]==monthnum[i])\n",
    "    rainanom=pmonth - pmonth.mean('T')\n",
    "    wmonth=wforcast_adjtime.sel(T=wforcast_adjtime[\"T.month\"]==monthnum[i])\n",
    "    sstmonth=sstforcast_adjtime.sel(T=wforcast_adjtime[\"T.month\"]==monthnum[i])\n",
    "    windanom=wmonth-wmonth.mean(\"T\")\n",
    "    x,y=getlonlat(\"one\")\n",
    "    plot=partialcorr2(windanom.ua,rainanom.pr,sstmonth.ts,x,y,np.shape(windanom.ua)[0])\n",
    "    cb=plotmap(plot,\"PC Wind independent \"+month[i],resolution=\"one\",ax=j,colorbar=\"nonauto\")\n",
    "cbar=fig.add_axes([.9, 0.15, 0.02, 0.5])\n",
    "fig.colorbar(cb,cax=cbar)"
   ]
  },
  {
   "cell_type": "code",
   "execution_count": null,
   "metadata": {},
   "outputs": [],
   "source": []
  }
 ],
 "metadata": {
  "kernelspec": {
   "display_name": "Python 3",
   "language": "python",
   "name": "python3"
  },
  "language_info": {
   "codemirror_mode": {
    "name": "ipython",
    "version": 3
   },
   "file_extension": ".py",
   "mimetype": "text/x-python",
   "name": "python",
   "nbconvert_exporter": "python",
   "pygments_lexer": "ipython3",
   "version": "3.7.1"
  }
 },
 "nbformat": 4,
 "nbformat_minor": 2
}
