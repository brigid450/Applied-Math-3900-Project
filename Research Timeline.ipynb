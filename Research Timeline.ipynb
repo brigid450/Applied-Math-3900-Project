{
 "cells": [
  {
   "cell_type": "markdown",
   "metadata": {},
   "source": [
    "**Week of 1/22/2019**\n",
    "\n",
    "Read two additional papers regarding the misprediction of precipitation in California based on El Niño \n",
    "\n",
    "Did further research on what causes the winds that may be a better predictor of precipitation\n",
    "\n",
    "**Week of 1/29/2019**\n",
    "\n",
    "Focused in on research project, looking at El Niño, wind, and precipitation together\n",
    "\n",
    "Make a github profile, learn how it works\n",
    "\n",
    "Play around with some data using xarray and share on github\n",
    "\n",
    "**Week of 2/5/2019**\n",
    "\n",
    "Learned about data libraries and “expert mode” \n",
    "\n",
    "Spent a great deal of time understanding xarray and cartopy better\n",
    "\n",
    "Created month averaged maps of the correlation between sst and precipitation \n",
    "\n",
    "Included writing a correlation function because atm xarray does not have many built in correlation functions like it does for mean\n",
    "\n",
    "Started thinking about how I can calculate statistical significance\n",
    "(next step)\n"
   ]
  },
  {
   "cell_type": "code",
   "execution_count": null,
   "metadata": {},
   "outputs": [],
   "source": []
  }
 ],
 "metadata": {
  "kernelspec": {
   "display_name": "Python 3",
   "language": "python",
   "name": "python3"
  },
  "language_info": {
   "codemirror_mode": {
    "name": "ipython",
    "version": 3
   },
   "file_extension": ".py",
   "mimetype": "text/x-python",
   "name": "python",
   "nbconvert_exporter": "python",
   "pygments_lexer": "ipython3",
   "version": "3.7.1"
  }
 },
 "nbformat": 4,
 "nbformat_minor": 2
}
