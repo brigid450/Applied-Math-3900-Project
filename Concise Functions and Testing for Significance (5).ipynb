{
 "cells": [
  {
   "cell_type": "code",
   "execution_count": null,
   "metadata": {},
   "outputs": [],
   "source": [
    "import pandas as pd\n",
    "import xarray as xr\n",
    "import numpy as np\n",
    "import cartopy as ccrs\n",
    "from matplotlib import pyplot as plt\n",
    "%matplotlib inline"
   ]
  },
  {
   "cell_type": "code",
   "execution_count": null,
   "metadata": {},
   "outputs": [],
   "source": [
    "precipurlbymonth=\"http://iridl.ldeo.columbia.edu/SOURCES/.NOAA/.NCEP/.CPC/.UNIFIED_PRCP/.GAUGE_BASED/.GLOBAL/.v1p0/.extREALTIME/.rain/T/monthlyAverage/T/%28Jan%201979%29/%28Dec%202018%29/RANGE/X/%28130W%29/%28100W%29/RANGE/Y/25/50/RANGE/T/(days%20since%201960-01-01)streamgridunitconvert/dods\"\n",
    "precipds=xr.open_dataset(precipurlbymonth)\n",
    "ninourl=\"http://iridl.ldeo.columbia.edu/SOURCES/.NOAA/.NCDC/.ERSST/.version5/.sst/Y/-5/5/RANGEEDGES/X/190/240/RANGEEDGES/%5BX/Y%5Daverage/zlev/removeGRID/T/%28Jan%201979%29/%28Dec%202018%29/RANGE/yearly-anomalies/T/(days%20since%201960-01-01)streamgridunitconvert/dods\"\n",
    "ninods=xr.open_dataset(ninourl)\n",
    "precipdegreeurl=\"http://iridl.ldeo.columbia.edu/SOURCES/.NOAA/.NCEP/.CPC/.UNIFIED_PRCP/.GAUGE_BASED/.GLOBAL/.v1p0/.extREALTIME/.rain/T/monthlyAverage/T/%28Jan%201979%29/%28Dec%202018%29/RANGE/X/%28130W%29/%28100W%29/RANGE/Y/25/50/RANGE/X/1/boxAverage/Y/1/boxAverage/T/%28days%20since%201960-01-01%29streamgridunitconvert/dods\"\n",
    "precipdsdegree=xr.open_dataset(precipdegreeurl)\n",
    "wind = xr.open_dataset(\"http://iridl.ldeo.columbia.edu/SOURCES/.NOAA/.NCEP-DOE/.Reanalysis-2/.Monthly/.pgb/.pgb/.ugrdprs/P/200/VALUE/X/220/240/RANGE/Y/27/40/RANGE/[X/Y]average/SOURCES/.NOAA/.NCEP-DOE/.Reanalysis-2/.Monthly/.pgb/.pgb/.ugrdprs/P/200/VALUE/X/210/240/RANGE/Y/45/60/RANGE/[X/Y]average/sub/P/removeGRID/T/(days%20since%201960-01-01)streamgridunitconvert/dods\")\n",
    "precipds"
   ]
  },
  {
   "cell_type": "code",
   "execution_count": null,
   "metadata": {},
   "outputs": [],
   "source": [
    "precipanom=precipds.groupby('T.month') - precipds.groupby('T.month').mean('T')\n",
    "Spn=(precipanom.rain*ninods.sst).groupby(\"T.month\").mean(\"T\")\n",
    "Sn = ninods.sst.groupby('T.month').std('T')\n",
    "Sp = precipanom.rain.groupby('T.month').std('T')\n",
    "Cpn = Spn/Sn/Sp\n",
    "windanom=wind.groupby(\"T.month\")-wind.groupby(\"T.month\").mean(\"T\")\n",
    "Swn=(windanom.ugrdprs*ninods.sst).groupby(\"T.month\").mean(\"T\")\n",
    "Sw = windanom.ugrdprs.groupby('T.month').std('T')\n",
    "Cwn=Swn/Sn/Sw\n",
    "vn=ninods.sst.groupby('T.month').var('T')\n",
    "vw=windanom.ugrdprs.groupby('T.month').var('T')\n",
    "Spw=(windanom.ugrdprs*precipanom.rain).groupby(\"T.month\").mean(\"T\")\n",
    "Cpw=Spw/Sw/Sp\n",
    "Bpn=Spn/vn\n",
    "Bpw=Spw/vw\n",
    "precipanomdegree=precipdsdegree.groupby('T.month') - precipdsdegree.groupby('T.month').mean('T')\n",
    "Spndegree=(precipanomdegree.rain*ninods.sst).groupby(\"T.month\").mean(\"T\")\n",
    "Spdegree = precipanomdegree.rain.groupby('T.month').std('T')\n",
    "Cpndegree = Spndegree/Sn/Spdegree\n",
    "Spwdegree=(windanom.ugrdprs*precipanomdegree.rain).groupby(\"T.month\").mean(\"T\")\n",
    "Cpwdegree=Spwdegree/Sw/Spdegree\n",
    "Bpndegree=Spndegree/vn\n",
    "Bpwdegree=Spwdegree/vw"
   ]
  },
  {
   "cell_type": "code",
   "execution_count": null,
   "metadata": {},
   "outputs": [],
   "source": [
    "def getlonlat(resolution):\n",
    "    if resolution==\"half\":\n",
    "        lats = np.linspace(24.75,50.25, 52)\n",
    "        lons= np.linspace(-130.25,-99.75,62)\n",
    "    else:\n",
    "        lats = np.linspace(25,50, 26)\n",
    "        lons= np.linspace(-130,-100,31)\n",
    "    lons, lats = np.meshgrid(lons, lats)\n",
    "    return lons, lats\n"
   ]
  },
  {
   "cell_type": "code",
   "execution_count": null,
   "metadata": {},
   "outputs": [],
   "source": [
    "import cartopy.feature as cfeature\n",
    "def plotmap(data,title,resolution=\"one\",ax=plt.axes(projection=ccrs.crs.Robinson()),colorbar=\"auto\"):\n",
    "    central_lon, central_lat = -115, 40\n",
    "    extent = [-130,-100,25, 50]\n",
    "    ax.set_title(title)\n",
    "    ax.set_extent(extent)\n",
    "    ax.gridlines()\n",
    "    ax.coastlines(resolution='50m')\n",
    "    ax.add_feature(cfeature.STATES)\n",
    "    lons, lats = getlonlat(resolution)\n",
    "    cb=ax.contourf(lons, lats, data,transform=ccrs.crs.PlateCarree(),cmap='nipy_spectral')\n",
    "    if colorbar==\"auto\":\n",
    "        plt.colorbar(cb, cmap='nipy_spectral', orientation='vertical',ticklocation='auto')\n",
    "    else:\n",
    "        return cb\n",
    "        "
   ]
  },
  {
   "cell_type": "code",
   "execution_count": null,
   "metadata": {},
   "outputs": [],
   "source": [
    "month=[\"Nov\",\"Dec\",\"Jan\",\"Feb\"]\n",
    "monthnum=[10,11,0,1]\n",
    "fig, (ax1, ax2,ax3,ax4) = plt.subplots(ncols=4, subplot_kw={'projection': ccrs.crs.Robinson()},figsize=(30,5))\n",
    "for i,j in enumerate([ax1,ax2,ax3,ax4]):\n",
    "    cb=plotmap(Cpn[monthnum[i]],\"Cpn \"+month[i],\"half\",ax=j,colorbar=\"nonauto\")\n",
    "cbar=fig.add_axes([.9, 0.15, 0.02, 0.5])\n",
    "fig.colorbar(cb,cax=cbar)\n"
   ]
  },
  {
   "cell_type": "code",
   "execution_count": null,
   "metadata": {},
   "outputs": [],
   "source": [
    "month=[\"Nov\",\"Dec\",\"Jan\",\"Feb\"]\n",
    "monthnum=[10,11,0,1]\n",
    "fig, (ax1, ax2,ax3,ax4) = plt.subplots(ncols=4, subplot_kw={'projection': ccrs.crs.Robinson()},figsize=(30,5))\n",
    "for i,j in enumerate([ax1,ax2,ax3,ax4]):\n",
    "    cb=plotmap(Cpw[monthnum[i]],\"Cpw \"+month[i],\"half\",ax=j,colorbar=\"nonauto\")\n",
    "cbar=fig.add_axes([.9, 0.15, 0.02, 0.5])\n",
    "fig.colorbar(cb,cax=cbar)"
   ]
  },
  {
   "cell_type": "markdown",
   "metadata": {},
   "source": [
    "Quick Single Variable Regression for checking:"
   ]
  },
  {
   "cell_type": "code",
   "execution_count": null,
   "metadata": {},
   "outputs": [],
   "source": [
    "vn=ninods.sst.groupby('T.month').var('T')\n",
    "vw=windanom.ugrdprs.groupby('T.month').var('T')\n",
    "Bpn=Spn/vn\n",
    "Bpn_0=precipanom.rain.mean(\"T\")-ninods.sst.groupby('T.month').mean(\"T\")*Bpn\n",
    "Bpw=Spw/vw\n",
    "Bpw_0=precipanom.rain.mean(\"T\")-wind.ugrdprs.groupby(\"T.month\").mean(\"T\")*Bpw\n",
    "Bnw=Swn/Sn\n",
    "Bnw_0=windanom.ugrdprs.mean(\"T\")-ninods.sst.groupby('T.month').mean(\"T\")*Bnw\n",
    "Bwp=Spw/Sp\n",
    "Bwp_0=windanom.ugrdprs.mean(\"T\")-precipanom.rain.mean(\"T\")*Bwp"
   ]
  },
  {
   "cell_type": "code",
   "execution_count": null,
   "metadata": {},
   "outputs": [],
   "source": [
    "def multiregression(month,shape=(52,62)):\n",
    "    windmonth=wind.sel(T=wind[\"T.month\"]==month)\n",
    "    ninodsmonth=ninods.sel(T=ninods[\"T.month\"]==month)\n",
    "    sstvar=ninodsmonth.sst\n",
    "    windvar=windmonth.ugrdprs-wind.ugrdprs.mean(\"T\")\n",
    "    precipdsmonth=precipds.sel(T=precipds['T.month']==month)\n",
    "    rain=precipdsmonth.rain-precipds.rain.mean(\"T\")\n",
    "    cons=np.empty(shape)\n",
    "    residual=np.empty(shape)\n",
    "    correlation=np.empty((52,62,40))\n",
    "    if shape==(52,62):\n",
    "        x,y=getlonlat(\"half\")\n",
    "    else:\n",
    "         x,y=getlonlat(\"one\")\n",
    "    windcoef=np.empty(shape)\n",
    "    sstcoef=np.empty(shape)\n",
    "    a_array=np.ones((40,3))\n",
    "    a_array[:,0]=sstvar\n",
    "    a_array[:,1]=windvar\n",
    "    for i in range(shape[1]):\n",
    "        for j in range(shape[0]):\n",
    "            a_matrix=np.matmul(np.transpose(a_array),a_array)\n",
    "            b_array=np.array(rain.sel(Y=y[j,i],X=x[j,i]))\n",
    "            B=np.matmul(np.transpose(a_array),b_array)\n",
    "            X=np.linalg.solve(a_matrix,B) \n",
    "            yhat=np.matmul(a_array,X)\n",
    "            residual[j,i]=np.nansum(np.square(b_array-yhat))\n",
    "            windcoef[j,i]=X[0]\n",
    "            sstcoef[j,i]=X[1]\n",
    "            cons[j,i]=X[2]\n",
    "            correlation[j,i,:]=np.square(b_array-yhat)\n",
    "    return windcoef,sstcoef,cons,correlation,residual\n",
    "def singleregression(typeof,month,shape=(52,62)):\n",
    "    windmonth=wind.sel(T=wind[\"T.month\"]==month)\n",
    "    ninodsmonth=ninods.sel(T=ninods[\"T.month\"]==month)\n",
    "    sstvar=ninodsmonth.sst\n",
    "    windvar=windmonth.ugrdprs-wind.ugrdprs.mean(\"T\")\n",
    "    precipdsmonth=precipds.sel(T=precipds['T.month']==month)\n",
    "    rain=precipdsmonth.rain-precipds.rain.mean(\"T\")\n",
    "    cons=np.empty(shape)\n",
    "    residual=np.empty(shape)\n",
    "    correlation=np.empty((52,62,40))\n",
    "    if shape==(52,62):\n",
    "        x,y=getlonlat(\"half\")\n",
    "    else:\n",
    "         x,y=getlonlat(\"one\")\n",
    "    if typeof==\"wind\":\n",
    "        coef=np.empty(shape)\n",
    "        a_array=np.ones((40,2))\n",
    "        a_array[:,0]=windvar\n",
    "        for i in range(shape[1]):\n",
    "            for j in range(shape[0]):\n",
    "                a_matrix=np.matmul(np.transpose(a_array),a_array)\n",
    "                b_array=np.array(rain.sel(Y=y[j,i],X=x[j,i]))\n",
    "                B=np.matmul(np.transpose(a_array),b_array)\n",
    "                X=np.linalg.solve(a_matrix,B) \n",
    "                yhat=np.matmul(a_array,X)\n",
    "                residual[j,i]=np.nansum(np.square(b_array-yhat))\n",
    "                coef[j,i]=X[0]\n",
    "                cons[j,i]=X[1]\n",
    "                correlation[j,i,:]=np.square(b_array-yhat)\n",
    "    else:\n",
    "        coef=np.empty(shape)\n",
    "        a_array=np.ones((40,2))\n",
    "        a_array[:,0]=sstvar\n",
    "        for i in range(shape[1]):\n",
    "            for j in range(shape[0]):\n",
    "                a_matrix=np.matmul(np.transpose(a_array),a_array)\n",
    "                b_array=np.array(rain.sel(Y=y[j,i],X=x[j,i]))\n",
    "                B=np.matmul(np.transpose(a_array),b_array)\n",
    "                X=np.linalg.solve(a_matrix,B) \n",
    "                yhat=np.matmul(a_array,X)\n",
    "                residual[j,i]=np.nansum(np.square(b_array-yhat))\n",
    "                coef[j,i]=X[0]\n",
    "                cons[j,i]=X[1]\n",
    "                correlation[j,i,:]=np.square(b_array-yhat)\n",
    "    return coef,cons,correlation,residual,np.linalg.inv(a_matrix)\n",
    "        \n",
    "    \n",
    "                "
   ]
  },
  {
   "cell_type": "code",
   "execution_count": null,
   "metadata": {},
   "outputs": [],
   "source": [
    "fig, (ax1,ax2) = plt.subplots(ncols=2, subplot_kw={'projection': ccrs.crs.Robinson()},figsize=(30,5))\n",
    "if __name__ ==\"__main__\":\n",
    "    plotmap(Bpw[1],\"Bpw simple\",\"half\",ax=ax1,colorbar=\"nonauto\")\n",
    "    cb=plotmap(singleregression(\"wind\",1)[0],\"Bpw my function\",\"half\",ax=ax2,colorbar=\"nonauto\")\n",
    "    cbar=fig.add_axes([.9, 0.15, 0.02, 0.5])\n",
    "    fig.colorbar(cb,cax=cbar)"
   ]
  },
  {
   "cell_type": "code",
   "execution_count": null,
   "metadata": {},
   "outputs": [],
   "source": [
    "def ftest(month):\n",
    "    monthnames={1:\"Jan\",2:\"Feb\",11:\"Nov\",12:\"Dec\"}\n",
    "    bivar=multiregression(month)[4]\n",
    "    wind=singleregression(\"wind\",month)[3]\n",
    "    sst=singleregression(\"sst\",month)[3]\n",
    "    fwind=np.divide((wind-bivar),bivar)*38\n",
    "    fsst=np.divide((sst-bivar),bivar)*38\n",
    "    return fsst,fwind"
   ]
  },
  {
   "cell_type": "code",
   "execution_count": null,
   "metadata": {},
   "outputs": [],
   "source": [
    "month=[\"Nov\",\"Dec\",\"Jan\",\"Feb\"]\n",
    "monthnum=[11,12,1,2]\n",
    "fig, (ax1, ax2,ax3,ax4) = plt.subplots(ncols=4,subplot_kw={'projection': ccrs.crs.Robinson()},figsize=(30,5))\n",
    "axes=[ax1,ax2,ax3,ax4]\n",
    "for i,j in enumerate(monthnum):\n",
    "    plotmap(ftest(j)[0],\"F test comparing bivar and just sst \"+month[i],\"half\",ax=axes[i],colorbar=\"nonauto\")\n",
    "    cbar=fig.add_axes([.9, 0.15, 0.02, 0.5])\n",
    "    fig.colorbar(cb,cax=cbar)\n",
    "\n",
    "\n",
    "\n"
   ]
  },
  {
   "cell_type": "code",
   "execution_count": null,
   "metadata": {},
   "outputs": [],
   "source": [
    "month=[\"Nov\",\"Dec\",\"Jan\",\"Feb\"]\n",
    "monthnum=[11,12,1,2]\n",
    "fig, (ax1, ax2,ax3,ax4) = plt.subplots(ncols=4,subplot_kw={'projection': ccrs.crs.Robinson()},figsize=(30,5))\n",
    "axes=[ax1,ax2,ax3,ax4]\n",
    "for i,j in enumerate(monthnum):\n",
    "    cb=plotmap(ftest(j)[1],\"F test-comparing bivar and just wind\"+month[i],\"half\",ax=axes[i],colorbar=\"nonauto\")\n",
    "    cbar=fig.add_axes([.9, 0.15, 0.02, 0.5])\n",
    "    fig.colorbar(cb,cax=cbar)"
   ]
  },
  {
   "cell_type": "markdown",
   "metadata": {},
   "source": [
    "Partial Correlations: \n",
    "\n",
    "-Calculating the correlation between single variable residuals\n",
    "\n",
    "-Interpretation?"
   ]
  },
  {
   "cell_type": "code",
   "execution_count": null,
   "metadata": {},
   "outputs": [],
   "source": [
    "from pydoc import help\n",
    "from scipy.stats.stats import pearsonr\n",
    "def partialcorrelation(month,shape=(52, 62)):\n",
    "    mat1=singleregression(\"wind\",month,shape)[2]\n",
    "    mat2=singleregression(\"sst\",month,shape)[2]\n",
    "    residualcorrelation=np.zeros((52,62))\n",
    "    for  i in range(52):\n",
    "        for j in range(62):\n",
    "            residualcorrelation[i,j]=pearsonr(mat1[i,j,:],mat2[i,j,:])[0]\n",
    "    return residualcorrelation\n",
    "print(partialcorrelation(1))"
   ]
  },
  {
   "cell_type": "code",
   "execution_count": null,
   "metadata": {},
   "outputs": [],
   "source": [
    "month=[\"Nov\",\"Dec\",\"Jan\",\"Feb\"]\n",
    "monthnum=[11,12,1,2]\n",
    "fig, (ax1, ax2,ax3,ax4) = plt.subplots(ncols=4,subplot_kw={'projection': ccrs.crs.Robinson()},figsize=(50,8))\n",
    "axes=[ax1,ax2,ax3,ax4]\n",
    "for i,j in enumerate(monthnum):\n",
    "    cb=plotmap(partialcorrelation(j),\"Partial Correlation \"+month[i],\"half\",ax=axes[i],colorbar=\"notauto\")\n",
    "cbar=fig.add_axes([.9, 0.15, 0.02, 0.5])\n",
    "fig.colorbar(cb,cax=cbar)"
   ]
  },
  {
   "cell_type": "markdown",
   "metadata": {},
   "source": [
    "Confidence Intervals"
   ]
  },
  {
   "cell_type": "code",
   "execution_count": null,
   "metadata": {},
   "outputs": [],
   "source": [
    "def ci(typeof,month,shape=(52,62)):\n",
    "    bound=(np.sqrt(singleregression(typeof,month,shape)[3]))*2.024*singleregression(typeof,month,shape)[4][0,0]\n",
    "    upper=singleregression(typeof,month,shape)[0]+bound\n",
    "    lower=singleregression(typeof,month,shape)[0]-bound\n",
    "    signif=np.zeros((52,62))\n",
    "    for i in range(52):\n",
    "        for j in range(62):\n",
    "            if (upper[i,j]>0 and lower[i,j]>0)or(upper[i,j]<0 and lower[i,j]<0):\n",
    "                signif[i,j]=1\n",
    "    return signif,lower,upper"
   ]
  },
  {
   "cell_type": "code",
   "execution_count": null,
   "metadata": {},
   "outputs": [],
   "source": [
    "Bpw_0=precipanom.rain.mean(\"T\")-wind.ugrdprs.groupby(\"T.month\").mean(\"T\")*Bpw\n",
    "Bnw=Swn/Sn\n",
    "Bnw_0=windanom.ugrdprs.mean(\"T\")-ninods.sst.groupby('T.month').mean(\"T\")*Bnw\n",
    "Bwp=Spw/Sp\n",
    "Bwp_0=windanom.ugrdprs.mean(\"T\")-precipanom.rain.groupby(\"T.month\").mean(\"T\")*Bwp\n",
    "#error=((Bnw[0]*ninods.sel(T=ninods[\"T.month\"]==1)+Bnw_0[0])-windanom.sel(T=wind[\"T.month\"]==1))\n",
    "estimaten=Bnw*ninods.sst+Bnw_0\n",
    "error_wn=np.sqrt(np.square(estimaten-windanom.ugrdprs))\n",
    "estimatep=Bwp*precipanom+Bwp_0\n",
    "error_wp=np.sqrt(np.square(estimatep.rain-windanom.ugrdprs))\n",
    "error_wp\n",
    "#to form map we just correlate for each x,y point \n",
    "#similar to finding correlation between precipitation and wind \n",
    "\n",
    "\n",
    "#S_error=(error_wp.groupby(\"T.month\")*error_wn).groupby(\"T.month\").mean(\"T\")\n",
    "#S_errorwn= error_wn.groupby('T.month').std('T')\n",
    "#S_errorwp = error_wp.groupby('T.month').std('T')\n",
    "#pc=S_error/(S_errorwp*S_errorwn)\n"
   ]
  },
  {
   "cell_type": "code",
   "execution_count": null,
   "metadata": {},
   "outputs": [],
   "source": [
    "mean(ci(\"sst\",1)[0])\n"
   ]
  },
  {
   "cell_type": "code",
   "execution_count": null,
   "metadata": {},
   "outputs": [],
   "source": [
    "month=[\"Nov\",\"Dec\",\"Jan\",\"Feb\"]\n",
    "monthnum=[11,12,1,2]\n",
    "fig, (ax1, ax2,ax3,ax4) = plt.subplots(ncols=4,subplot_kw={'projection': ccrs.crs.Robinson()},figsize=(50,8))\n",
    "axes=[ax1,ax2,ax3,ax4]\n",
    "for i,j in enumerate(monthnum):\n",
    "    cb=plotmap(ci(\"sst\",j)[0],\"Confidence Interval Signifigance SST\"+month[i],\"half\",ax=axes[i],colorbar=\"notauto\")\n",
    "cbar=fig.add_axes([.9, 0.15, 0.02, 0.5])\n",
    "fig.colorbar(cb,cax=cbar)\n"
   ]
  },
  {
   "cell_type": "code",
   "execution_count": null,
   "metadata": {},
   "outputs": [],
   "source": [
    "month=[\"Nov\",\"Dec\",\"Jan\",\"Feb\"]\n",
    "monthnum=[11,12,1,2]\n",
    "fig, (ax1, ax2,ax3,ax4) = plt.subplots(ncols=4,subplot_kw={'projection': ccrs.crs.Robinson()},figsize=(50,8))\n",
    "axes=[ax1,ax2,ax3,ax4]\n",
    "for i,j in enumerate(monthnum):\n",
    "    cb=plotmap(ci(\"wind\",j)[0],\"Confidence Interval Signifigance WIND\"+month[i],\"half\",ax=axes[i],colorbar=\"notauto\")\n",
    "cbar=fig.add_axes([.9, 0.15, 0.02, 0.5])\n",
    "fig.colorbar(cb,cax=cbar)"
   ]
  },
  {
   "cell_type": "code",
   "execution_count": null,
   "metadata": {},
   "outputs": [],
   "source": [
    "ax1=plt.axes(projection=ccrs.crs.Robinson())\n",
    "plotmap(ci(\"sst\",1)[2],\"Upper\",\"half\",ax1)"
   ]
  },
  {
   "cell_type": "code",
   "execution_count": null,
   "metadata": {},
   "outputs": [],
   "source": [
    "def regress(a,b):\n",
    "    A=np.matmul(np.transpose(a),a)\n",
    "    B=np.matmul(np.transpose(a),b)\n",
    "    return np.linalg.solve(A,B)\n",
    "    \n",
    "\n",
    "\n",
    "def partialcorr(typeof,month,shape=(52,62)):\n",
    "    windmonth=wind.sel(T=wind[\"T.month\"]==month)\n",
    "    ninodsmonth=ninods.sel(T=ninods[\"T.month\"]==month)\n",
    "    sstvar=ninodsmonth.sst\n",
    "    windvar=windmonth.ugrdprs-wind.ugrdprs.mean(\"T\")\n",
    "    precipdsmonth=precipds.sel(T=precipds['T.month']==month)\n",
    "    rain=precipdsmonth.rain-precipds.rain.mean(\"T\")\n",
    "    error1=np.empty((52,62,40))\n",
    "    if typeof==\"wind\":\n",
    "        a2=sstvar\n",
    "        b=windvar\n",
    "    else:\n",
    "        a2=windvar\n",
    "        b=sstvar\n",
    "    if shape==(52,62):\n",
    "        x,y=getlonlat(\"half\")\n",
    "    else:\n",
    "         x,y=getlonlat(\"one\")\n",
    "    for i in range(shape[1]):\n",
    "        for j in range(shape[0]):\n",
    "            a_array1=np.ones((40,2))\n",
    "            a_array1[:,0]=np.array(rain.sel(Y=y[j,i],X=x[j,i]))\n",
    "            x1=regress(a_array1,b)\n",
    "            error1[j,i,:]=np.square(b-np.matmul(a_array1,x1))\n",
    "    a_array2=np.ones((40,2))\n",
    "    a_array2[:,0]=a2\n",
    "    x2=regress(a_array2,b)\n",
    "    error2=np.square(b-np.matmul(a_array2,x2))\n",
    "    \n",
    "    pc=np.empty((52,62))\n",
    "    for i in range(62):\n",
    "        for j in range(52):\n",
    "            pc[j,i]=np.corrcoef(error1[j,i,:],error2)[0,1]\n",
    "    return pc\n",
    "        \n",
    "\n"
   ]
  },
  {
   "cell_type": "code",
   "execution_count": null,
   "metadata": {},
   "outputs": [],
   "source": [
    "pc=np.empty((52,62))\n",
    "errorjanp,errorjann=partialcorr(1)\n",
    "for i in range(62):\n",
    "    for j in range(52):\n",
    "        pc[j,i]=np.corrcoef(errorjanp[j,i,:],errorjann)[0,1]\n"
   ]
  },
  {
   "cell_type": "code",
   "execution_count": null,
   "metadata": {},
   "outputs": [],
   "source": [
    "ax1=plt.axes(projection=ccrs.crs.Robinson())\n",
    "plotmap(pc,\"Upper\",\"half\",ax1)"
   ]
  },
  {
   "cell_type": "code",
   "execution_count": null,
   "metadata": {},
   "outputs": [],
   "source": [
    "month=[\"Nov\",\"Dec\",\"Jan\",\"Feb\"]\n",
    "monthnum=[11,12,1,2]\n",
    "fig, (ax1, ax2,ax3,ax4) = plt.subplots(ncols=4,subplot_kw={'projection': ccrs.crs.Robinson()},figsize=(50,8))\n",
    "axes=[ax1,ax2,ax3,ax4]\n",
    "for i,j in enumerate(monthnum):\n",
    "    cb=plotmap(partialcorr(\"wind\",j),\"Partial correlation \"+month[i],\"half\",ax=axes[i],colorbar=\"notauto\")\n",
    "cbar=fig.add_axes([.9, 0.15, 0.02, 0.5])\n",
    "fig.colorbar(cb,cax=cbar)"
   ]
  },
  {
   "cell_type": "code",
   "execution_count": null,
   "metadata": {},
   "outputs": [],
   "source": [
    "month=[\"Nov\",\"Dec\",\"Jan\",\"Feb\"]\n",
    "monthnum=[11,12,1,2]\n",
    "fig, (ax1, ax2,ax3,ax4) = plt.subplots(ncols=4,subplot_kw={'projection': ccrs.crs.Robinson()},figsize=(50,8))\n",
    "axes=[ax1,ax2,ax3,ax4]\n",
    "for i,j in enumerate(monthnum):\n",
    "    cb=plotmap(partialcorr(\"sst\",j),\"Partial correlation \"+month[i],\"half\",ax=axes[i],colorbar=\"notauto\")\n",
    "cbar=fig.add_axes([.9, 0.15, 0.02, 0.5])\n",
    "fig.colorbar(cb,cax=cbar)"
   ]
  },
  {
   "cell_type": "code",
   "execution_count": null,
   "metadata": {},
   "outputs": [],
   "source": []
  }
 ],
 "metadata": {
  "kernelspec": {
   "display_name": "Python 3",
   "language": "python",
   "name": "python3"
  },
  "language_info": {
   "codemirror_mode": {
    "name": "ipython",
    "version": 3
   },
   "file_extension": ".py",
   "mimetype": "text/x-python",
   "name": "python",
   "nbconvert_exporter": "python",
   "pygments_lexer": "ipython3",
   "version": "3.7.1"
  }
 },
 "nbformat": 4,
 "nbformat_minor": 2
}
