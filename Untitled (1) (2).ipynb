{
 "cells": [
  {
   "cell_type": "code",
   "execution_count": null,
   "metadata": {},
   "outputs": [],
   "source": [
    "import pandas as pd\n",
    "import xarray as xr\n",
    "import numpy as np\n",
    "import cartopy as ccrs\n",
    "from matplotlib import pyplot as plt"
   ]
  },
  {
   "cell_type": "code",
   "execution_count": null,
   "metadata": {},
   "outputs": [],
   "source": []
  },
  {
   "cell_type": "code",
   "execution_count": null,
   "metadata": {},
   "outputs": [],
   "source": [
    "mask=xr.open_dataset('http://iridl.ldeo.columbia.edu/SOURCES/.NOAA/.NCEP/.CPC/.UNIFIED_PRCP/.GAUGE_BASED/.GLOBAL/.v1p0/.extREALTIME/.rain/T/monthlyAverage/T/(Jan%201979)/(Dec%202018)/RANGE/X/(130W)/(100W)/RANGE/Y/25/50/RANGE/SOURCES/.Features/.Political/.World/.firstOrder_ESRI/.the_geom/objectid/2297/VALUE/rasterize/dods')\n",
    "mask.where(mask.the_geom>0)\n",
    "mask.where(np.isnan(mask.the_geom)==False)\n"
   ]
  },
  {
   "cell_type": "code",
   "execution_count": null,
   "metadata": {},
   "outputs": [],
   "source": [
    "precipurlbymonth=\"http://iridl.ldeo.columbia.edu/SOURCES/.NOAA/.NCEP/.CPC/.UNIFIED_PRCP/.GAUGE_BASED/.GLOBAL/.v1p0/.extREALTIME/.rain/T/monthlyAverage/T/%28Jan%201979%29/%28Dec%202018%29/RANGE/X/%28130W%29/%28100W%29/RANGE/Y/25/50/RANGE/T/(days%20since%201960-01-01)streamgridunitconvert/dods\"\n",
    "precipds=xr.open_dataset(precipurlbymonth)\n",
    "ninourl=\"http://iridl.ldeo.columbia.edu/SOURCES/.NOAA/.NCDC/.ERSST/.version5/.sst/Y/-5/5/RANGEEDGES/X/190/240/RANGEEDGES/%5BX/Y%5Daverage/zlev/removeGRID/T/%28Jan%201979%29/%28Dec%202018%29/RANGE/yearly-anomalies/T/(days%20since%201960-01-01)streamgridunitconvert/dods\"\n",
    "ninods=xr.open_dataset(ninourl)\n",
    "wind = xr.open_dataset(\"http://iridl.ldeo.columbia.edu/SOURCES/.NOAA/.NCEP-DOE/.Reanalysis-2/.Monthly/.pgb/.pgb/.ugrdprs/P/200/VALUE/X/220/240/RANGE/Y/27/40/RANGE/[X/Y]average/SOURCES/.NOAA/.NCEP-DOE/.Reanalysis-2/.Monthly/.pgb/.pgb/.ugrdprs/P/200/VALUE/X/210/240/RANGE/Y/45/60/RANGE/[X/Y]average/sub/P/removeGRID/T/(days%20since%201960-01-01)streamgridunitconvert/dods\")"
   ]
  },
  {
   "cell_type": "code",
   "execution_count": null,
   "metadata": {},
   "outputs": [],
   "source": []
  },
  {
   "cell_type": "code",
   "execution_count": null,
   "metadata": {},
   "outputs": [],
   "source": [
    "maskedprecip=precipds.where(mask.the_geom!=0).rain.mean(dim=[\"X\",\"Y\"])\n",
    "maskedprecip=maskedprecip.drop(\"objectid\")"
   ]
  },
  {
   "cell_type": "code",
   "execution_count": null,
   "metadata": {},
   "outputs": [],
   "source": [
    "month=[\"Nov\",\"Dec\",\"Jan\",\"Feb\"]\n",
    "monthnum=[11,12,1,2]\n",
    "fig, (ax1, ax2,ax3,ax4) = plt.subplots(ncols=4,figsize=(30,5))\n",
    "axes=[ax1,ax2,ax3,ax4]\n",
    "for i,j in enumerate(monthnum):\n",
    "    maskedprecip.sel(T=maskedprecip[\"T.month\"]==j).plot(ax=axes[i])"
   ]
  },
  {
   "cell_type": "code",
   "execution_count": null,
   "metadata": {},
   "outputs": [],
   "source": [
    "maskedprecipanom=maskedprecip.groupby('T.month') - maskedprecip.groupby('T.month').mean('T')\n",
    "windanom=wind.groupby(\"T.month\")-wind.groupby(\"T.month\").mean(\"T\")"
   ]
  },
  {
   "cell_type": "code",
   "execution_count": null,
   "metadata": {},
   "outputs": [],
   "source": [
    "def getmonth(data,month):\n",
    "    return data.sel(T=data[\"T.month\"]==month)"
   ]
  },
  {
   "cell_type": "code",
   "execution_count": null,
   "metadata": {},
   "outputs": [],
   "source": [
    "month=[\"Nov\",\"Dec\",\"Jan\",\"Feb\"]\n",
    "monthnum=[11,12,1,2]\n",
    "for i,j in enumerate(monthnum):\n",
    "    fig, (ax1, ax2) = plt.subplots(ncols=2,figsize=(30,5))\n",
    "    ax1.scatter(getmonth(windanom.ugrdprs,j),getmonth(ninods.sst,j))\n",
    "    ax2.scatter(getmonth(maskedprecipanom,j),getmonth(windanom.ugrdprs,j))\n",
    "    ax1.set_title(month[i]+' SST and Precip')\n",
    "    ax1.set_xlabel('Precipitation')\n",
    "    ax1.set_ylabel('SST')\n",
    "    ax2.set_title(month[i]+' Wind and Precip')\n",
    "    ax2.set_xlabel('Precipitation')\n",
    "    ax2.set_ylabel('Wind')"
   ]
  },
  {
   "cell_type": "code",
   "execution_count": null,
   "metadata": {},
   "outputs": [],
   "source": [
    "rain=np.empty((480))\n",
    "for j,i in enumerate(np.array(mask2anom.rain)):\n",
    "    rain[j]=int(i)"
   ]
  },
  {
   "cell_type": "code",
   "execution_count": null,
   "metadata": {},
   "outputs": [],
   "source": [
    "maskedprecip=precipds.where(mask.the_geom!=0).rain.mean(dim=[\"X\",\"Y\"])\n",
    "maskedprecip=maskedprecip.drop(\"objectid\")"
   ]
  },
  {
   "cell_type": "code",
   "execution_count": null,
   "metadata": {},
   "outputs": [],
   "source": [
    "ninourl=\"http://iridl.ldeo.columbia.edu/SOURCES/.NOAA/.NCDC/.ERSST/.version5/.sst/Y/-5/5/RANGEEDGES/X/190/240/RANGEEDGES/%5BX/Y%5Daverage/zlev/removeGRID/T/%28Jan%201979%29/%28Dec%202018%29/RANGE/yearly-anomalies/T/(days%20since%201960-01-01)streamgridunitconvert/dods\"\n",
    "ninods=xr.open_dataset(ninourl)\n",
    "np.shape(ninods.sst)"
   ]
  },
  {
   "cell_type": "code",
   "execution_count": null,
   "metadata": {},
   "outputs": [],
   "source": [
    "maskedprecip.sel(T=maskedprecip[\"T.month\"]==1).plot()"
   ]
  },
  {
   "cell_type": "code",
   "execution_count": null,
   "metadata": {},
   "outputs": [],
   "source": [
    "maskedprecip.sel(T=maskedprecip[\"T.month\"]==2).plot()"
   ]
  },
  {
   "cell_type": "code",
   "execution_count": null,
   "metadata": {},
   "outputs": [],
   "source": [
    "maskedprecip.sel(T=maskedprecip[\"T.month\"]==11).plot()\n",
    "maskedprecip.sel(T=maskedprecip[\"T.month\"]==12).plot()\n",
    "maskedprecip.sel(T=maskedprecip[\"T.month\"]==1).plot()\n",
    "maskedprecip.sel(T=maskedprecip[\"T.month\"]==2).plot()"
   ]
  },
  {
   "cell_type": "code",
   "execution_count": null,
   "metadata": {},
   "outputs": [],
   "source": [
    "month=[\"Nov\",\"Dec\",\"Jan\",\"Feb\"]\n",
    "monthnum=[11,12,1,2]\n",
    "fig, (ax1, ax2,ax3,ax4) = plt.subplots(ncols=4,figsize=(30,5))\n",
    "axes=[ax1,ax2,ax3,ax4]\n",
    "for i,j in enumerate(monthnum):\n",
    "    maskedprecip.sel(T=maskedprecip[\"T.month\"]==j).plot(ax=axes[i])\n",
    "\n"
   ]
  },
  {
   "cell_type": "code",
   "execution_count": null,
   "metadata": {},
   "outputs": [],
   "source": []
  },
  {
   "cell_type": "code",
   "execution_count": null,
   "metadata": {},
   "outputs": [],
   "source": [
    "def getmonth(data,month):\n",
    "    return data.sel(T=data[\"T.month\"]==month)"
   ]
  },
  {
   "cell_type": "code",
   "execution_count": null,
   "metadata": {},
   "outputs": [],
   "source": [
    "month=[\"Nov\",\"Dec\",\"Jan\",\"Feb\"]\n",
    "monthnum=[11,12,1,2]\n",
    "for i,j in enumerate(monthnum):\n",
    "    fig, (ax1, ax2) = plt.subplots(ncols=2,figsize=(30,5))\n",
    "    ax1.scatter(getmonth(maskedprecipanom,j),getmonth(ninods.sst,j))\n",
    "    ax2.scatter(getmonth(maskedprecipanom,j),getmonth(wind.ugrdprs,j))\n",
    "    ax1.set_title(month[i]+' SST and Precip')\n",
    "    ax1.set_xlabel('Precipitation')\n",
    "    ax1.set_ylabel('SST')\n",
    "    ax2.set_title(month[i]+' Wind and Precip')\n",
    "    ax2.set_xlabel('Precipitation')\n",
    "    ax2.set_ylabel('Wind')\n",
    "\n",
    "\n",
    "\n"
   ]
  },
  {
   "cell_type": "code",
   "execution_count": null,
   "metadata": {},
   "outputs": [],
   "source": [
    "windbin=np.empty((480))\n",
    "windpercentile=np.empty((11))\n",
    "for i,j in enumerate(np.linspace(0,1,11)):\n",
    "    windpercentile[i]=np.quantile(windanom.ugrdprs,j)\n",
    "    windpercentile=list(windpercentile)\n",
    "for j,i in enumerate(np.array(windanom.ugrdprs)):\n",
    "    index=windpercentile.index(min(windpercentile, key=lambda x:abs(x-i)))\n",
    "    windbin[j]=np.linspace(0,1,11)[index]\n",
    "sstpercentile=np.empty((11))\n",
    "sstbin=np.empty((480))\n",
    "for i,j in enumerate(np.linspace(0,1,11)): \n",
    "    sstpercentile[i]=np.quantile(ninods.sst,j)\n",
    "    sstpercentile=list(sstpercentile)\n",
    "for j,i in enumerate(np.array(ninods.sst)):\n",
    "    index=sstpercentile.index(min(sstpercentile, key=lambda x:abs(x-i)))\n",
    "    sstbin[j]=np.linspace(0,1,11)[index]\n",
    "rainpercentile=np.empty((11))    \n",
    "rain=np.empty((480))\n",
    "for i,j in enumerate(np.linspace(0,1,11)): \n",
    "    rainpercentile[i]=np.quantile(maskedprecipanom,j)\n",
    "    rainpercentile=list(rainpercentile)\n",
    "for j,i in enumerate(np.array(maskedprecipanom)):\n",
    "    index=rainpercentile.index(min(rainpercentile, key=lambda x:abs(x-i)))\n",
    "    rain[j]=np.linspace(0,1,11)[index]"
   ]
  },
  {
   "cell_type": "code",
   "execution_count": null,
   "metadata": {},
   "outputs": [],
   "source": []
  },
  {
   "cell_type": "code",
   "execution_count": null,
   "metadata": {},
   "outputs": [],
   "source": [
    "raindf=pd.DataFrame({\"rain\":rain,\"sst\":sstbin,\"wind\":windbin})\n",
    "rrst=pd.DataFrame({\"rain\":rain,\"sst\":sstbin})\n",
    "rw=pd.DataFrame({\"rain\":rain,\"wind\":windbin})\n",
    "boxplot = raindf.boxplot(by='rain')"
   ]
  },
  {
   "cell_type": "code",
   "execution_count": null,
   "metadata": {},
   "outputs": [],
   "source": [
    "boxplot=rrst.boxplot(by='sst')\n",
    "boxplot=rw.boxplot(by='wind')\n",
    "\n",
    "\n",
    "#month=[\"Nov\",\"Dec\",\"Jan\",\"Feb\"]\n",
    "#monthnum=[11,12,1,2]\n",
    "##for i,j in enumerate(monthnum):\n",
    " #   rainmonth=np.empty((40))\n",
    "  ##      rainmonth[k]=int(l)\n",
    "  #  monthdf=pd.DataFrame({\"rain\":rainmonth,\"sst\":getmonth(ninods.sst,j)})\n",
    "  #  monthdf.boxplot(by=\"sst\")\n",
    "    \n"
   ]
  },
  {
   "cell_type": "code",
   "execution_count": null,
   "metadata": {},
   "outputs": [],
   "source": [
    "dsbin=pd.DataFrame({\"rain\":rain,\"sst\":sstbin,\"wind\":windbin})\n"
   ]
  },
  {
   "cell_type": "code",
   "execution_count": null,
   "metadata": {},
   "outputs": [],
   "source": [
    "import seaborn as sns\n",
    "import pandas as pd\n",
    "\n",
    "dsbin.drop_duplicates(['sst','wind'], inplace=True)\n",
    "pivot = dsbin.pivot(index='sst', columns='wind', values='rain')\n",
    "ax = sns.heatmap(pivot)\n",
    "ax.invert_yaxis()\n",
    "plt.show()\n"
   ]
  },
  {
   "cell_type": "code",
   "execution_count": null,
   "metadata": {},
   "outputs": [],
   "source": [
    "precipurlnw=\"http://iridl.ldeo.columbia.edu/SOURCES/.NOAA/.NCEP/.CPC/.UNIFIED_PRCP/.GAUGE_BASED/.GLOBAL/.v1p0/.extREALTIME/.rain/T/monthlyAverage/T/%28Jan%201979%29/%28Dec%202018%29/RANGE/X/%281240W%29/%28116W%29/RANGE/Y/41/48/RANGE/T/(days%20since%201960-01-01)streamgridunitconvert/dods\"\n",
    "precipurlsw=\"http://iridl.ldeo.columbia.edu/SOURCES/.NOAA/.NCEP/.CPC/.UNIFIED_PRCP/.GAUGE_BASED/.GLOBAL/.v1p0/.extREALTIME/.rain/T/monthlyAverage/T/%28Jan%201979%29/%28Dec%202018%29/RANGE/X/%28113W%29/%28103W%29/RANGE/Y/32/38/RANGE/T/(days%20since%201960-01-01)streamgridunitconvert/dods\"\n",
    "pacificnw=xr.open_dataset(precipurlnw)\n",
    "southwest= xr.open_dataset(precipurlsw)\n",
    "pacificnw=pacificnw.rain.mean(dim=[\"X\",\"Y\"])\n",
    "southwest=southwest.rain.mean(dim=[\"X\",\"Y\"])"
   ]
  },
  {
   "cell_type": "code",
   "execution_count": null,
   "metadata": {},
   "outputs": [],
   "source": [
    "month=[\"Nov\",\"Dec\",\"Jan\",\"Feb\"]\n",
    "monthnum=[11,12,1,2]\n",
    "fig, (ax1, ax2,ax3,ax4) = plt.subplots(ncols=4,figsize=(30,5))\n",
    "axes=[ax1,ax2,ax3,ax4]\n",
    "for i,j in enumerate(monthnum):\n",
    "    southwest.sel(T=southwest[\"T.month\"]==j).plot(ax=axes[i],color=\"red\")\n",
    "    pacificnw.sel(T=pacificnw[\"T.month\"]==j).plot(ax=axes[i],color=\"green\")\n",
    "    maskedprecip.sel(T=maskedprecip[\"T.month\"]==j).plot(ax=axes[i],color=\"blue\")\n",
    "    \n",
    "    \n",
    "    "
   ]
  },
  {
   "cell_type": "code",
   "execution_count": null,
   "metadata": {},
   "outputs": [],
   "source": [
    "pnwprecipanom=pacificnw.groupby('T.month') - pacificnw.groupby('T.month').mean('T')\n",
    "swprecipanom=southwest.groupby('T.month') - southwest.groupby('T.month').mean('T')"
   ]
  },
  {
   "cell_type": "code",
   "execution_count": null,
   "metadata": {},
   "outputs": [],
   "source": [
    "month=[\"Nov\",\"Dec\",\"Jan\",\"Feb\"]\n",
    "monthnum=[11,12,1,2]\n",
    "for i,j in enumerate(monthnum):\n",
    "    fig, (ax1, ax2) = plt.subplots(ncols=2,figsize=(30,5))\n",
    "    ax1.scatter(getmonth(maskedprecipanom,j),getmonth(ninods.sst,j),c=\"blue\")\n",
    "    ax1.scatter(getmonth(swprecipanom,j),getmonth(ninods.sst,j),c=\"red\")\n",
    "    ax1.scatter(getmonth(pnwprecipanom,j),getmonth(ninods.sst,j),c=\"green\")\n",
    "    ax2.scatter(getmonth(maskedprecipanom,j),getmonth(wind.ugrdprs,j),c=\"blue\")\n",
    "    ax2.scatter(getmonth(swprecipanom,j),getmonth(wind.ugrdprs,j),c=\"red\")\n",
    "    ax2.scatter(getmonth(pnwprecipanom,j),getmonth(wind.ugrdprs,j),c=\"green\")\n",
    "    ax1.set_title(month[i]+' SST and Precip')\n",
    "    ax1.set_xlabel('Precipitation')\n",
    "    ax1.set_ylabel('SST')\n",
    "    ax2.set_title(month[i]+' Wind and Precip')\n",
    "    ax2.set_xlabel('Precipitation')\n",
    "    ax2.set_ylabel('Wind')"
   ]
  },
  {
   "cell_type": "code",
   "execution_count": null,
   "metadata": {},
   "outputs": [],
   "source": [
    "nwpercentile=np.empty((11))    \n",
    "nw=np.empty((480))\n",
    "for i,j in enumerate(np.linspace(0,1,11)): \n",
    "    nwpercentile[i]=np.quantile(pnwprecipanom,j)\n",
    "    nwpercentile=list(nwpercentile)\n",
    "for j,i in enumerate(np.array(maskedprecipanom)):\n",
    "    index=nwpercentile.index(min(nwpercentile, key=lambda x:abs(x-i)))\n",
    "    nw[j]=np.linspace(0,1,11)[index]"
   ]
  },
  {
   "cell_type": "code",
   "execution_count": null,
   "metadata": {},
   "outputs": [],
   "source": [
    "swpercentile=np.empty((11))    \n",
    "sw=np.empty((480))\n",
    "for i,j in enumerate(np.linspace(0,1,11)): \n",
    "    swpercentile[i]=np.quantile(swprecipanom,j)\n",
    "    swpercentile=list(swpercentile)\n",
    "for j,i in enumerate(np.array(swprecipanom)):\n",
    "    index=swpercentile.index(min(swpercentile, key=lambda x:abs(x-i)))\n",
    "    sw[j]=np.linspace(0,1,11)[index]"
   ]
  },
  {
   "cell_type": "code",
   "execution_count": null,
   "metadata": {},
   "outputs": [],
   "source": [
    "pnwdf=pd.DataFrame({\"rain\":nw,\"sst\":sstbin,\"wind\":windbin})\n",
    "pnwst=pd.DataFrame({\"rain\":nw,\"sst\":sstbin})\n",
    "pnww=pd.DataFrame({\"rain\":nw,\"wind\":windbin})\n",
    "swdf=pd.DataFrame({\"rain\":sw,\"sst\":sstbin,\"wind\":windbin})\n",
    "swst=pd.DataFrame({\"rain\":sw,\"sst\":sstbin})\n",
    "sww=pd.DataFrame({\"rain\":sw,\"wind\":windbin})\n",
    "boxplot = pnwdf.boxplot(by='rain')\n",
    "boxplot=swdf.boxplot(by=\"rain\")"
   ]
  },
  {
   "cell_type": "code",
   "execution_count": null,
   "metadata": {},
   "outputs": [],
   "source": [
    "boxplot=pnwst.boxplot(by='sst')\n",
    "boxplot=pnww.boxplot(by='wind')"
   ]
  },
  {
   "cell_type": "code",
   "execution_count": null,
   "metadata": {},
   "outputs": [],
   "source": [
    "boxplot=swst.boxplot(by='sst')\n",
    "boxplot=sww.boxplot(by='wind')"
   ]
  },
  {
   "cell_type": "code",
   "execution_count": null,
   "metadata": {},
   "outputs": [],
   "source": [
    "\n",
    "\n",
    "nwbin=pd.DataFrame({\"rain\":nw,\"sst\":sstbin,\"wind\":windbin})\n",
    "\n",
    "import seaborn as sns\n",
    "import pandas as pd\n",
    "\n",
    "nwbin.drop_duplicates(['sst','wind'], inplace=True)\n",
    "pivot = nwbin.pivot(index='sst', columns='wind', value s='rain')\n",
    "ax = sns.heatmap(pivot)\n",
    "ax.invert_yaxis()\n",
    "plt.show()\n"
   ]
  },
  {
   "cell_type": "code",
   "execution_count": null,
   "metadata": {},
   "outputs": [],
   "source": [
    "\n",
    "swbin=pd.DataFrame({\"rain\":sw,\"sst\":sstbin,\"wind\":windbin})\n",
    "\n",
    "import seaborn as sns\n",
    "import pandas as pd\n",
    "\n",
    "swbin.drop_duplicates(['sst','wind'], inplace=True)\n",
    "pivot = swbin.pivot(index='sst', columns='wind', values='rain')\n",
    "ax = sns.heatmap(pivot)\n",
    "ax.invert_yaxis()\n",
    "plt.show()"
   ]
  },
  {
   "cell_type": "markdown",
   "metadata": {},
   "source": [
    "Hindcasting:\n",
    "\n"
   ]
  },
  {
   "cell_type": "code",
   "execution_count": null,
   "metadata": {},
   "outputs": [],
   "source": [
    "#\"http://iridl.ldeo.columbia.edu/SOURCES/.NOAA/.NCEP/.CPC/.UNIFIED_PRCP/.GAUGE_BASED/.GLOBAL/.v1p0/.extREALTIME/.rain/T/monthlyAverage/T/%28Jan%201979%29/%28Dec%202018%29/RANGE/X/%28130W%29/%28100W%29/RANGE/Y/25/50/RANGE/T/(days%20since%201960-01-01)streamgridunitconvert/dods\"\n",
    "\n",
    "\n",
    "\n",
    "FIMds = xr.open_dataset(\"http://iridl.ldeo.columbia.edu/SOURCES/.Models/.SubX/.ESRL/.FIMr1p1/.hindcast/.pr/L/2.5/31.5/RANGEEDGES/%5BL%5D/average/X/-130.25/-99.75/RANGE/Y/24.75/50.25/RANGE/dods\")\n",
    "\n",
    "\n"
   ]
  },
  {
   "cell_type": "code",
   "execution_count": null,
   "metadata": {},
   "outputs": [],
   "source": [
    "FIMds\n",
    "#FIMadjusted=FIMds.assign_coords(T=(FIMds.L+FIMds.S))"
   ]
  },
  {
   "cell_type": "code",
   "execution_count": null,
   "metadata": {},
   "outputs": [],
   "source": [
    "FIMds.pr.isel(M=1,S=0).plot()\n"
   ]
  },
  {
   "cell_type": "code",
   "execution_count": null,
   "metadata": {},
   "outputs": [],
   "source": [
    "FIMds.pr.isel(M=1,S=slice(0,3)).plot(col='S', col_wrap=3)\n"
   ]
  },
  {
   "cell_type": "code",
   "execution_count": null,
   "metadata": {},
   "outputs": [],
   "source": [
    "FIMds.pr.coarsen(S=7)"
   ]
  },
  {
   "cell_type": "code",
   "execution_count": null,
   "metadata": {},
   "outputs": [],
   "source": [
    "newmask=xr.open_dataset(\"http://iridl.ldeo.columbia.edu/SOURCES/.Models/.SubX/.ESRL/.FIMr1p1/.hindcast/.pr/L/2.5/31.5/RANGEEDGES%5BL%5Daverage/X/-130.25/-99.75/RANGE/Y/24.75/50.25/RANGE/SOURCES/.Features/.Political/.World/.firstOrder_ESRI/.the_geom/objectid/2297/VALUE/rasterize/dods\")"
   ]
  },
  {
   "cell_type": "code",
   "execution_count": null,
   "metadata": {},
   "outputs": [],
   "source": [
    "newmask"
   ]
  },
  {
   "cell_type": "code",
   "execution_count": null,
   "metadata": {},
   "outputs": [],
   "source": [
    "maskedprecipforcast=FIMds.where(newmask.the_geom!=0).pr.mean(dim=[\"X\",\"Y\"])\n"
   ]
  },
  {
   "cell_type": "code",
   "execution_count": null,
   "metadata": {},
   "outputs": [],
   "source": []
  }
 ],
 "metadata": {
  "kernelspec": {
   "display_name": "Python 3",
   "language": "python",
   "name": "python3"
  },
  "language_info": {
   "codemirror_mode": {
    "name": "ipython",
    "version": 3
   },
   "file_extension": ".py",
   "mimetype": "text/x-python",
   "name": "python",
   "nbconvert_exporter": "python",
   "pygments_lexer": "ipython3",
   "version": "3.7.1"
  }
 },
 "nbformat": 4,
 "nbformat_minor": 2
}
